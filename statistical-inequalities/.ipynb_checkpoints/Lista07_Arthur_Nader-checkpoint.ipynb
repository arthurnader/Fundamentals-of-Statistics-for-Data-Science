{
 "cells": [
  {
   "cell_type": "markdown",
   "id": "18163fd4",
   "metadata": {},
   "source": [
    "# Lista 07 de Exercícios\n",
    "\n",
    "Nome: Arthur Pontes Nader\n",
    "\n",
    "Matrícula: 2019022294"
   ]
  },
  {
   "cell_type": "code",
   "execution_count": 185,
   "id": "4a78ddd8",
   "metadata": {},
   "outputs": [],
   "source": [
    "import matplotlib.pyplot as plt\n",
    "import scipy.stats as stats\n",
    "import numpy as np\n",
    "import math\n",
    "import pandas as pd\n",
    "\n",
    "from scipy.special import comb\n",
    "from scipy.stats import chi2, poisson, chisquare, kstest"
   ]
  },
  {
   "cell_type": "markdown",
   "id": "56aa9d71",
   "metadata": {},
   "source": [
    "### Capítulo 3"
   ]
  },
  {
   "cell_type": "markdown",
   "id": "c31a89c4",
   "metadata": {},
   "source": [
    "#### 10"
   ]
  },
  {
   "cell_type": "code",
   "execution_count": 53,
   "id": "772a674d",
   "metadata": {},
   "outputs": [],
   "source": [
    "valores_obs = np.array([215, 1485, 5331, 10649, 14959, 11929, 6678, 2092, 342])\n",
    "valores_esp = np.array([165.22, 1401.69, 5202.65, 11034.65, 14627.60, 12409.87, 6580.24, 1993.78, 264.30])"
   ]
  },
  {
   "cell_type": "code",
   "execution_count": 54,
   "id": "ba149f13",
   "metadata": {},
   "outputs": [
    {
     "name": "stdout",
     "output_type": "stream",
     "text": [
      "Probabilidade =  0.5146772540983606\n"
     ]
    }
   ],
   "source": [
    "prob = 0\n",
    "for i in range(len(valores_obs)):\n",
    "    prob+= i*valores_obs[i]/8\n",
    "prob = prob/53680\n",
    "print('Probabilidade = ', prob)"
   ]
  },
  {
   "cell_type": "code",
   "execution_count": 63,
   "id": "c7af9e57",
   "metadata": {},
   "outputs": [],
   "source": [
    "def valores_esperados(n, p):\n",
    "    esperados = np.zeros(9)\n",
    "    \n",
    "    for k in range(n+1):\n",
    "        esperados[k] = round((comb(n, k) * (p ** k) * ((1 - p) ** (n-k)))*53680, 2)\n",
    "    \n",
    "    return esperados"
   ]
  },
  {
   "cell_type": "markdown",
   "id": "3235d4d8",
   "metadata": {},
   "source": [
    "Para se aproximar dos valores esperados da tabela, considerou-se p = 0.514677"
   ]
  },
  {
   "cell_type": "code",
   "execution_count": 64,
   "id": "6bab07b6",
   "metadata": {},
   "outputs": [
    {
     "data": {
      "text/plain": [
       "array([  165.22,  1401.69,  5202.66, 11034.67, 14627.6 , 12409.86,\n",
       "        6580.23,  1993.78,   264.3 ])"
      ]
     },
     "execution_count": 64,
     "metadata": {},
     "output_type": "execute_result"
    }
   ],
   "source": [
    "valores_esperados(8, 0.514677)"
   ]
  },
  {
   "cell_type": "code",
   "execution_count": 65,
   "id": "7b20ef4c",
   "metadata": {},
   "outputs": [
    {
     "name": "stdout",
     "output_type": "stream",
     "text": [
      "X² = 91.87\n"
     ]
    }
   ],
   "source": [
    "x2 = np.sum((valores_obs - valores_esp)**2 / valores_esp)\n",
    "\n",
    "print(f\"X² = {x2:.2f}\")"
   ]
  },
  {
   "cell_type": "markdown",
   "id": "601f4c4d",
   "metadata": {},
   "source": [
    "A distribuição de referência para a estatística qui-quadrado neste problema é a distribuição qui-quadrado com 7 graus de liberdade, que corresponde ao número de categorias menos 1 menos a quantidade de parâmetros estimados (9-1-1=7)."
   ]
  },
  {
   "cell_type": "code",
   "execution_count": 66,
   "id": "c2d251bf",
   "metadata": {},
   "outputs": [
    {
     "name": "stdout",
     "output_type": "stream",
     "text": [
      "O p-valor é: 0.0\n"
     ]
    }
   ],
   "source": [
    "p_valor = 1 - chi2.cdf(x2, 7)\n",
    "print(\"O p-valor é:\", p_valor)"
   ]
  },
  {
   "cell_type": "markdown",
   "id": "88ed321d",
   "metadata": {},
   "source": [
    "#### 11"
   ]
  },
  {
   "cell_type": "code",
   "execution_count": 72,
   "id": "6de12df5",
   "metadata": {},
   "outputs": [
    {
     "name": "stdout",
     "output_type": "stream",
     "text": [
      "4.68\n"
     ]
    }
   ],
   "source": [
    "# dados observados\n",
    "n = [0, 20, 43, 53, 86, 70, 54, 37, 18, 10, 5, 2, 2, 0, 0, 0, 0]\n",
    "\n",
    "# média de fungos por quadrado\n",
    "media = sum([n[i]*i for i in range(len(k))])/sum(n)\n",
    "print(media)"
   ]
  },
  {
   "cell_type": "code",
   "execution_count": 74,
   "id": "bd1d8b3f",
   "metadata": {},
   "outputs": [
    {
     "data": {
      "text/plain": [
       "[3.7116055548258977,\n",
       " 17.3703139965852,\n",
       " 40.64653475200936,\n",
       " 63.40859421313459,\n",
       " 74.18805522936746,\n",
       " 69.44001969468796,\n",
       " 54.16321536185659,\n",
       " 36.2119782704984,\n",
       " 21.184007288241553,\n",
       " 11.01568378988562,\n",
       " 5.155340013666463,\n",
       " 2.193362842178095,\n",
       " 0.8554115084494589,\n",
       " 0.3079481430418053,\n",
       " 0.10294266495968882,\n",
       " 0.03211811146742289,\n",
       " 0.009394547604221192]"
      ]
     },
     "execution_count": 74,
     "metadata": {},
     "output_type": "execute_result"
    }
   ],
   "source": [
    "poisson_esperados = [poisson.pmf(i, media)*sum(n) for i in range(len(n))]\n",
    "poisson_esperados"
   ]
  },
  {
   "cell_type": "code",
   "execution_count": 76,
   "id": "fb4cd771",
   "metadata": {},
   "outputs": [
    {
     "name": "stdout",
     "output_type": "stream",
     "text": [
      "X^2 = 10.44, p = 0.7915\n",
      "Não rejeita a hipótese nula de que os dados seguem uma distribuição de Poisson\n"
     ]
    }
   ],
   "source": [
    "X2, p = chisquare(n, f_exp=poisson_esperados, ddof=1)\n",
    "alpha = 0.05\n",
    "\n",
    "print(f\"X^2 = {X2:.2f}, p = {p:.4f}\")\n",
    "if p < alpha:\n",
    "    print(\"Rejeita a hipótese nula de que os dados seguem uma distribuição de Poisson\")\n",
    "else:\n",
    "    print(\"Não rejeita a hipótese nula de que os dados seguem uma distribuição de Poisson\")"
   ]
  },
  {
   "cell_type": "markdown",
   "id": "095453c7",
   "metadata": {},
   "source": [
    "#### 12"
   ]
  },
  {
   "cell_type": "code",
   "execution_count": 141,
   "id": "4192f8a1",
   "metadata": {},
   "outputs": [],
   "source": [
    "def teste_kolmogorov():\n",
    "      \n",
    "    # Gerando 100 valores i.i.d. de uma distribuição normal padrão\n",
    "    data = np.random.normal(0, 1, size=100)\n",
    "\n",
    "    # Realizando o teste de Kolmogorov-Smirnov\n",
    "    D, p_value = kstest(data, 'norm')\n",
    "\n",
    "    return D, p_value"
   ]
  },
  {
   "cell_type": "code",
   "execution_count": 237,
   "id": "008d0bac",
   "metadata": {},
   "outputs": [
    {
     "name": "stdout",
     "output_type": "stream",
     "text": [
      "Os dados seguem uma distribuição normal padrão\n"
     ]
    }
   ],
   "source": [
    "p_valor = teste_kolmogorov()[1]\n",
    "\n",
    "if p_valor < 0.05:\n",
    "    print(\"Os dados não seguem uma distribuição normal padrão\")\n",
    "else:\n",
    "    print(\"Os dados seguem uma distribuição normal padrão\")"
   ]
  },
  {
   "cell_type": "code",
   "execution_count": 148,
   "id": "fdbd501e",
   "metadata": {},
   "outputs": [],
   "source": [
    "D_values = []\n",
    "p_values = []\n",
    "\n",
    "for _ in range(1000):\n",
    "\n",
    "    D, p_value = teste_kolmogorov()\n",
    "    \n",
    "    D_values.append(D)\n",
    "    p_values.append(p_value)"
   ]
  },
  {
   "cell_type": "code",
   "execution_count": 149,
   "id": "df557205",
   "metadata": {},
   "outputs": [
    {
     "data": {
      "image/png": "[encoded data removed]",
      "text/plain": [
       "<Figure size 864x432 with 1 Axes>"
      ]
     },
     "metadata": {
      "needs_background": "light"
     },
     "output_type": "display_data"
    }
   ],
   "source": [
    "plt.figure(figsize=(12, 6))\n",
    "plt.hist(D_values, density=True, bins=20, alpha=0.5, color='purple', edgecolor = \"black\")\n",
    "plt.xlabel('Valor de D', fontsize = 14)\n",
    "plt.ylabel('Frequência', fontsize = 14)\n",
    "plt.title(\"Histograma dos valores de D\", fontsize = 18)\n",
    "plt.show()"
   ]
  },
  {
   "cell_type": "markdown",
   "id": "b6da3378",
   "metadata": {},
   "source": [
    "Podemos observar que esses valores se concentram entre 0.050 e 0.100"
   ]
  },
  {
   "cell_type": "code",
   "execution_count": 150,
   "id": "3d0fa05e",
   "metadata": {},
   "outputs": [
    {
     "data": {
      "image/png": "[encoded data removed]",
      "text/plain": [
       "<Figure size 864x432 with 1 Axes>"
      ]
     },
     "metadata": {
      "needs_background": "light"
     },
     "output_type": "display_data"
    }
   ],
   "source": [
    "plt.figure(figsize=(12, 6))\n",
    "plt.hist(p_values, density=True, bins=20, alpha=0.5, color='purple', edgecolor = \"black\")\n",
    "plt.xlabel('Valor de p')\n",
    "plt.ylabel('Frequência')\n",
    "plt.title(\"Histograma dos valores de p\", fontsize = 18)\n",
    "plt.show()"
   ]
  },
  {
   "cell_type": "code",
   "execution_count": 151,
   "id": "f8ef10c8",
   "metadata": {},
   "outputs": [
    {
     "name": "stdout",
     "output_type": "stream",
     "text": [
      "Proporção de p_valores menores que 0.05:  0.047\n"
     ]
    }
   ],
   "source": [
    "proporcao = np.sum(np.array(p_values)<0.05)/1000\n",
    "print(\"Proporção de p_valores menores que 0.05: \", proporcao)"
   ]
  },
  {
   "cell_type": "markdown",
   "id": "5fc453a1",
   "metadata": {},
   "source": [
    "#### 13"
   ]
  },
  {
   "cell_type": "code",
   "execution_count": 174,
   "id": "5acb3464",
   "metadata": {},
   "outputs": [
    {
     "data": {
      "text/html": [
       "<div>\n",
       "<style scoped>\n",
       "    .dataframe tbody tr th:only-of-type {\n",
       "        vertical-align: middle;\n",
       "    }\n",
       "\n",
       "    .dataframe tbody tr th {\n",
       "        vertical-align: top;\n",
       "    }\n",
       "\n",
       "    .dataframe thead th {\n",
       "        text-align: right;\n",
       "    }\n",
       "</style>\n",
       "<table border=\"1\" class=\"dataframe\">\n",
       "  <thead>\n",
       "    <tr style=\"text-align: right;\">\n",
       "      <th></th>\n",
       "      <th>URL</th>\n",
       "      <th>num_links</th>\n",
       "      <th>Tamanho_arquivo</th>\n",
       "    </tr>\n",
       "  </thead>\n",
       "  <tbody>\n",
       "    <tr>\n",
       "      <th>0</th>\n",
       "      <td>https://en.wikipedia.org/wiki/Ronald_Fisher</td>\n",
       "      <td>2057</td>\n",
       "      <td>436085</td>\n",
       "    </tr>\n",
       "    <tr>\n",
       "      <th>1</th>\n",
       "      <td>https://donate.wikimedia.org/wiki/Special:Fund...</td>\n",
       "      <td>33</td>\n",
       "      <td>58609</td>\n",
       "    </tr>\n",
       "    <tr>\n",
       "      <th>2</th>\n",
       "      <td>https://ar.wikipedia.org/wiki/%D8%B1%D9%88%D9%...</td>\n",
       "      <td>668</td>\n",
       "      <td>231236</td>\n",
       "    </tr>\n",
       "    <tr>\n",
       "      <th>3</th>\n",
       "      <td>https://ast.wikipedia.org/wiki/Ronald_Fisher</td>\n",
       "      <td>567</td>\n",
       "      <td>163401</td>\n",
       "    </tr>\n",
       "    <tr>\n",
       "      <th>4</th>\n",
       "      <td>https://azb.wikipedia.org/wiki/%D8%B1%D8%A7%D9...</td>\n",
       "      <td>144</td>\n",
       "      <td>64673</td>\n",
       "    </tr>\n",
       "  </tbody>\n",
       "</table>\n",
       "</div>"
      ],
      "text/plain": [
       "                                                 URL  num_links  \\\n",
       "0        https://en.wikipedia.org/wiki/Ronald_Fisher       2057   \n",
       "1  https://donate.wikimedia.org/wiki/Special:Fund...         33   \n",
       "2  https://ar.wikipedia.org/wiki/%D8%B1%D9%88%D9%...        668   \n",
       "3       https://ast.wikipedia.org/wiki/Ronald_Fisher        567   \n",
       "4  https://azb.wikipedia.org/wiki/%D8%B1%D8%A7%D9...        144   \n",
       "\n",
       "   Tamanho_arquivo  \n",
       "0           436085  \n",
       "1            58609  \n",
       "2           231236  \n",
       "3           163401  \n",
       "4            64673  "
      ]
     },
     "execution_count": 174,
     "metadata": {},
     "output_type": "execute_result"
    }
   ],
   "source": [
    "dados = pd.read_csv(\"resultados.csv\")\n",
    "dados.head()"
   ]
  },
  {
   "cell_type": "code",
   "execution_count": 220,
   "id": "4b0dab66",
   "metadata": {},
   "outputs": [
    {
     "name": "stdout",
     "output_type": "stream",
     "text": [
      "[2057   33  668  567  144  138  130 1357  256  403  273  287  308  308\n",
      "  123  558  384  554  957  220  481  308  505  151  393  348  188  127\n",
      "  198  289  138  132  305  255  600  341  213  299  607  706  328  533\n",
      "  247  555  795  129  195  347  154  434  806  295  144 1356  694   58\n",
      "   58 2067   50  694  113  115   58   58   50   44  129   67   97  194\n",
      "   93    0   83   97   46  485   93   57  154   78   13  155   30   81\n",
      "  154   31   74  173  113  173  173    2   54  176  176   33   51    6\n",
      "   30   30   30    0   31   71   36  226]\n"
     ]
    }
   ],
   "source": [
    "numero_links = dados[\"num_links\"].values\n",
    "print(numero_links)"
   ]
  },
  {
   "cell_type": "code",
   "execution_count": 221,
   "id": "87ac865b",
   "metadata": {},
   "outputs": [
    {
     "name": "stdout",
     "output_type": "stream",
     "text": [
      "Media:  287.5566037735849\n"
     ]
    }
   ],
   "source": [
    "media = numero_links.mean()\n",
    "print(\"Media: \", media)"
   ]
  },
  {
   "cell_type": "code",
   "execution_count": 234,
   "id": "9ba3f760",
   "metadata": {},
   "outputs": [],
   "source": [
    "distribuicao = poisson(media)\n",
    "amostra_poisson = distribuicao.rvs(size=len(dados))"
   ]
  },
  {
   "cell_type": "code",
   "execution_count": 235,
   "id": "c0d69b06",
   "metadata": {},
   "outputs": [
    {
     "name": "stdout",
     "output_type": "stream",
     "text": [
      "Estatística de teste KS: 0.6146738760150817\n",
      "Valor-p: 4.70669995207665e-39\n"
     ]
    }
   ],
   "source": [
    "k_est, p_value = kstest(numero_links, distribuicao.cdf)\n",
    "print('Estatística de teste KS:', k_est)\n",
    "print('Valor-p:', p_value)"
   ]
  },
  {
   "cell_type": "code",
   "execution_count": 239,
   "id": "bb595db4",
   "metadata": {},
   "outputs": [
    {
     "name": "stdout",
     "output_type": "stream",
     "text": [
      "Os dados não seguem uma distribuição Poisson\n"
     ]
    }
   ],
   "source": [
    "if p_value < 0.05:\n",
    "    print(\"Os dados não seguem uma distribuição Poisson\")\n",
    "else:\n",
    "    print(\"Os dados seguem uma distribuição Poisson\")"
   ]
  },
  {
   "cell_type": "markdown",
   "id": "9bbbd0a6",
   "metadata": {},
   "source": [
    "#### 30"
   ]
  },
  {
   "cell_type": "code",
   "execution_count": 268,
   "id": "633bc8f6",
   "metadata": {},
   "outputs": [],
   "source": [
    "valores_observados = np.array([229, 211, 93, 35, 7, 1])"
   ]
  },
  {
   "cell_type": "code",
   "execution_count": 269,
   "id": "800ece8c",
   "metadata": {},
   "outputs": [
    {
     "name": "stdout",
     "output_type": "stream",
     "text": [
      "1.9322916666666665\n"
     ]
    }
   ],
   "source": [
    "n = 576\n",
    "bombs_total = 537\n",
    "\n",
    "x_mean = bombs_total / n\n",
    "y_mean = x_mean + 1\n",
    "print(y_mean)"
   ]
  },
  {
   "cell_type": "code",
   "execution_count": 286,
   "id": "970d259c",
   "metadata": {},
   "outputs": [],
   "source": [
    "theta = 0.696"
   ]
  },
  {
   "cell_type": "code",
   "execution_count": 270,
   "id": "85ecc7d0",
   "metadata": {},
   "outputs": [],
   "source": [
    "def calcular_probabilidade(theta, k):\n",
    "     return (-1/(np.log(1-theta))) * ((theta**(k+1)/(k+1))) "
   ]
  },
  {
   "cell_type": "code",
   "execution_count": 271,
   "id": "dd0a02cd",
   "metadata": {},
   "outputs": [
    {
     "name": "stdout",
     "output_type": "stream",
     "text": [
      "[336.68154459 117.16517752  54.36464237  28.37834332  15.80106156\n",
      "  23.60923066]\n"
     ]
    }
   ],
   "source": [
    "resultados = [calcular_probabilidade(theta, k) for k in range(5)]\n",
    "resultados.append(1-np.sum(resultados))\n",
    "valores_esperados = np.array(resultados)*576\n",
    "print(valores_esperados)"
   ]
  },
  {
   "cell_type": "code",
   "execution_count": 282,
   "id": "a8d04dde",
   "metadata": {},
   "outputs": [
    {
     "name": "stdout",
     "output_type": "stream",
     "text": [
      "X² = 165.15\n"
     ]
    }
   ],
   "source": [
    "x_2 = np.sum((valores_observados - valores_esperados)**2 / valores_esperados)\n",
    "\n",
    "print(f\"X² = {x_2:.2f}\")"
   ]
  },
  {
   "cell_type": "code",
   "execution_count": 284,
   "id": "688277d4",
   "metadata": {},
   "outputs": [
    {
     "name": "stdout",
     "output_type": "stream",
     "text": [
      "O p-valor é: 0.0\n"
     ]
    }
   ],
   "source": [
    "p_valor = 1 - chi2.cdf(x_2, 4)\n",
    "print(\"O p-valor é:\", p_valor)"
   ]
  },
  {
   "cell_type": "code",
   "execution_count": 285,
   "id": "ccd27fa4",
   "metadata": {},
   "outputs": [
    {
     "name": "stdout",
     "output_type": "stream",
     "text": [
      "Rejeita a hipótese nula de que os dados seguem uma distribuição logaritma\n"
     ]
    }
   ],
   "source": [
    "alpha = 0.05\n",
    "\n",
    "if p_valor < alpha:\n",
    "    print(\"Rejeita a hipótese nula de que os dados seguem uma distribuição logaritma\")\n",
    "else:\n",
    "    print(\"Não rejeita a hipótese nula de que os dados seguem uma distribuição logaritma\")"
   ]
  },
  {
   "cell_type": "markdown",
   "id": "e90d0d9c",
   "metadata": {},
   "source": [
    "#### 32"
   ]
  },
  {
   "cell_type": "code",
   "execution_count": 163,
   "id": "0e7bc1d1",
   "metadata": {},
   "outputs": [
    {
     "name": "stdout",
     "output_type": "stream",
     "text": [
      "60.8\n"
     ]
    }
   ],
   "source": [
    "frequencias_observadas = np.array([60, 62, 67, 68, 64, 56, 62, 44, 58, 67])\n",
    "media = np.mean(frequencias_observadas)\n",
    "print(media)"
   ]
  },
  {
   "cell_type": "code",
   "execution_count": 164,
   "id": "da76ce5a",
   "metadata": {},
   "outputs": [],
   "source": [
    "frequencias_esperadas = np.full(10, media)"
   ]
  },
  {
   "cell_type": "code",
   "execution_count": 165,
   "id": "a093aa51",
   "metadata": {},
   "outputs": [
    {
     "name": "stdout",
     "output_type": "stream",
     "text": [
      "χ² = 7.493421052631579\n",
      "p-valor = 0.5858880273157883\n"
     ]
    }
   ],
   "source": [
    "chi_2, p = chisquare(frequencias_observadas, f_exp= frequencias_esperadas)\n",
    "\n",
    "print(\"χ² =\", chi_2)\n",
    "print(\"p-valor =\", p)"
   ]
  },
  {
   "cell_type": "code",
   "execution_count": 184,
   "id": "43c910f7",
   "metadata": {},
   "outputs": [
    {
     "name": "stdout",
     "output_type": "stream",
     "text": [
      "Valor crítico: 16.918977604620448\n"
     ]
    }
   ],
   "source": [
    "alpha = 0.05\n",
    "valor_critico = chi2.ppf(1 - alpha, 9)\n",
    "\n",
    "print(\"Valor crítico:\", valor_critico)"
   ]
  },
  {
   "cell_type": "markdown",
   "id": "aa9f2714",
   "metadata": {},
   "source": [
    "O valor de χ² é menor que o valor crítico da distribuição qui-quadrado com 9 graus de liberdade para um nível de significância de 0.05, que é 16.919. Além disso, o p-valor é maior que 0.05. Portanto, não rejeitamos a hipótese nula de que a distribuição dos dígitos de π é uniforme. Concluímos que os dados são compatíveis com a suposição de que cada dígito é escolhido de forma completamente aleatória."
   ]
  },
  {
   "cell_type": "markdown",
   "id": "23dbc658",
   "metadata": {},
   "source": [
    "#### 33"
   ]
  },
  {
   "cell_type": "markdown",
   "id": "76faf870",
   "metadata": {},
   "source": [
    "Para obter um intervalo de predição com 95% de confiança, precisamos encontrar k tal que P(|X - µ| >= kσ) <= 0.05.\n",
    "\n",
    "Usando a desigualdade de Tchebychev, podemos resolver para k:\\\n",
    "P(|X - µ| >= kσ) <= 1/k^2\\\n",
    "1/k^2 >= 0.05\\\n",
    "k^2 <= 1/0.05\\\n",
    "k <= sqrt(20) = 4.472"
   ]
  },
  {
   "cell_type": "code",
   "execution_count": 178,
   "id": "f4bb9640",
   "metadata": {},
   "outputs": [
    {
     "name": "stdout",
     "output_type": "stream",
     "text": [
      "Intervalo de predição: (75.28, 164.72)\n"
     ]
    }
   ],
   "source": [
    "mu = 120\n",
    "sigma = 10\n",
    "k = np.sqrt(20)  # valor de k para obter 95% de confiança\n",
    "\n",
    "limite_inferior = mu - k*sigma\n",
    "limite_superior = mu + k*sigma\n",
    "\n",
    "print(f\"Intervalo de predição: ({limite_inferior:.2f}, {limite_superior:.2f})\")"
   ]
  },
  {
   "cell_type": "markdown",
   "id": "56052bf2",
   "metadata": {},
   "source": [
    "Em Python, pode-se usar a função scipy.stats.norm.ppf() da biblioteca SciPy para encontrar o valor correspondente a uma probabilidade de 95%. Em seguida, calculamos o intervalo de predição usando a média e o desvio padrão de X."
   ]
  },
  {
   "cell_type": "code",
   "execution_count": 181,
   "id": "a351e4c1",
   "metadata": {},
   "outputs": [
    {
     "name": "stdout",
     "output_type": "stream",
     "text": [
      "Intervalo de predição: (100.4, 139.6)\n"
     ]
    }
   ],
   "source": [
    "alpha = 0.05  # nível de significância\n",
    "\n",
    "z = stats.norm.ppf(1 - alpha/2)  # valor crítico de z para o nível de significância\n",
    "\n",
    "lower_bound = mu - z*sigma\n",
    "upper_bound = mu + z*sigma\n",
    "\n",
    "print(f\"Intervalo de predição: ({lower_bound:.1f}, {upper_bound:.1f})\")"
   ]
  },
  {
   "cell_type": "markdown",
   "id": "0298f2ee",
   "metadata": {},
   "source": [
    "### Capítulo 4"
   ]
  },
  {
   "cell_type": "markdown",
   "id": "6094f199",
   "metadata": {},
   "source": [
    "#### 3"
   ]
  },
  {
   "cell_type": "markdown",
   "id": "f197af2a",
   "metadata": {},
   "source": [
    "Para uma distribuição uniforme contínua, a função de densidade de probabilidade é dada por:\n",
    "\n",
    "f(u) = 1/(b-a), onde a ≤ u ≤ b\n",
    "\n",
    "No caso de U ~ U(0,1), temos a = 0 e b = 1, portanto:\n",
    "\n",
    "f(u) = 1, 0 ≤ u ≤ 1\n",
    "\n",
    "Para encontrar a distribuição de probabilidade de X, precisamos aplicar a seguinte transformação de variáveis:\n",
    "\n",
    "X = -log(1-U)/3\n",
    "\n",
    "Isolando U, temos:\\\n",
    "3X = -log(1-U)\\\n",
    "-3X = log(1-U)\\\n",
    "exp(-3X) = 1-U\\\n",
    "U = 1 - exp(-3X)\n",
    "\n",
    "Agora, podemos usar a técnica de transformação de variáveis para encontrar a distribuição de probabilidade de X. A função de densidade de probabilidade de X é dada por:\n",
    "\n",
    "f(x) = f(u) * |du/dx|\n",
    "\n",
    "Onde |du/dx| é o valor absoluto da derivada de U em relação a X. Para encontrar |du/dx|, usamos a regra da cadeia:\n",
    "\n",
    "du/dx = d/dx (1 - exp(-3X)) = 3 exp(-3X)\n",
    "\n",
    "Assim:\n",
    "\n",
    "|du/dx| = 3 exp(-3X)\n",
    "\n",
    "Substituindo na equação da densidade de probabilidade:\n",
    "\n",
    "f(x) = 1 * 3 exp(-3X)\n",
    "\n",
    "f(x) = 3 exp(-3X), 0 ≤ x ≤ ∞\n",
    "\n",
    "Portanto, a distribuição de probabilidade de X é dada por uma distribuição exponencial com parâmetro λ = 3."
   ]
  },
  {
   "cell_type": "markdown",
   "id": "3486f9cc",
   "metadata": {},
   "source": [
    "### Apêndice: Coleta de dados para o exercicio 13"
   ]
  },
  {
   "cell_type": "markdown",
   "id": "9fc3a2db",
   "metadata": {},
   "source": [
    "Criei um crawler que parte da seguinte url https://en.wikipedia.org/wiki/Ronald_Fisher, explorando os links gerados em largura. Para cada link, ele guarda o número de links presentes na pagina e o tamanho do texto da página."
   ]
  },
  {
   "cell_type": "code",
   "execution_count": null,
   "id": "5a51c3bb",
   "metadata": {},
   "outputs": [],
   "source": [
    "import urllib3\n",
    "import pandas as pd\n",
    "import numpy as np\n",
    "from time import sleep\n",
    "\n",
    "import requests\n",
    "from bs4 import BeautifulSoup\n",
    "from collections import deque\n",
    "import os"
   ]
  },
  {
   "cell_type": "code",
   "execution_count": null,
   "id": "ef6dc989",
   "metadata": {},
   "outputs": [],
   "source": [
    "# URL base a ser explorada\n",
    "base_url = \"https://en.wikipedia.org/wiki/Ronald_Fisher\"\n",
    "max_links = 105\n",
    "links_to_visit = deque([base_url])\n",
    "links_visited = 0\n",
    "dados_paginas = []"
   ]
  },
  {
   "cell_type": "code",
   "execution_count": null,
   "id": "114d950d",
   "metadata": {},
   "outputs": [],
   "source": [
    "# Loop de busca em largura\n",
    "while links_to_visit and links_visited < max_links:\n",
    "    # Pega o próximo link da fila\n",
    "    url = links_to_visit.popleft()\n",
    "    \n",
    "    try:\n",
    "        # Faz a requisição HTTP para a URL\n",
    "        response = requests.get(url)\n",
    "        # Se a requisição for bem sucedida, extrai o conteúdo da página\n",
    "        if response.status_code == 200:\n",
    "            soup = BeautifulSoup(response.text, \"html.parser\")\n",
    "            \n",
    "            # Conta o número de caracteres \"a\" na página\n",
    "            num_links = len(soup.find_all(\"a\"))\n",
    "            \n",
    "            # Salva o conteúdo da página em um arquivo de texto\n",
    "            text = response.text\n",
    "                \n",
    "            # Adiciona os dados da página à lista de dicionários\n",
    "            dados_paginas.append({\"URL\": url, \"num_links\": num_links, \"Tamanho_arquivo\": len(text)})\n",
    "            \n",
    "            # Adiciona os links encontrados na página à fila de links para visitar\n",
    "            for link in soup.find_all(\"a\"):\n",
    "                if link.has_attr(\"href\"):\n",
    "                    new_url = link[\"href\"]\n",
    "                    if new_url.startswith(\"http\"):\n",
    "                        links_to_visit.append(new_url)\n",
    "                    else:\n",
    "                        links_to_visit.append(f\"{base_url}/{new_url}\")\n",
    "            \n",
    "            # Incrementa o contador de links visitados\n",
    "            links_visited += 1\n",
    "            \n",
    "    except:\n",
    "        pass\n"
   ]
  },
  {
   "cell_type": "code",
   "execution_count": null,
   "id": "64b126ba",
   "metadata": {},
   "outputs": [],
   "source": [
    "# Cria um DataFrame a partir da lista de dicionários\n",
    "df = pd.DataFrame(dados_paginas)\n",
    "\n",
    "# Cria um csv a partir do DataFrame\n",
    "df.to_csv('resultados.csv', index=False)"
   ]
  },
  {
   "cell_type": "code",
   "execution_count": 175,
   "id": "a8a58e48",
   "metadata": {},
   "outputs": [
    {
     "data": {
      "text/html": [
       "<div>\n",
       "<style scoped>\n",
       "    .dataframe tbody tr th:only-of-type {\n",
       "        vertical-align: middle;\n",
       "    }\n",
       "\n",
       "    .dataframe tbody tr th {\n",
       "        vertical-align: top;\n",
       "    }\n",
       "\n",
       "    .dataframe thead th {\n",
       "        text-align: right;\n",
       "    }\n",
       "</style>\n",
       "<table border=\"1\" class=\"dataframe\">\n",
       "  <thead>\n",
       "    <tr style=\"text-align: right;\">\n",
       "      <th></th>\n",
       "      <th>URL</th>\n",
       "      <th>num_links</th>\n",
       "      <th>Tamanho_arquivo</th>\n",
       "    </tr>\n",
       "  </thead>\n",
       "  <tbody>\n",
       "    <tr>\n",
       "      <th>0</th>\n",
       "      <td>https://en.wikipedia.org/wiki/Ronald_Fisher</td>\n",
       "      <td>2057</td>\n",
       "      <td>436085</td>\n",
       "    </tr>\n",
       "    <tr>\n",
       "      <th>1</th>\n",
       "      <td>https://donate.wikimedia.org/wiki/Special:Fund...</td>\n",
       "      <td>33</td>\n",
       "      <td>58609</td>\n",
       "    </tr>\n",
       "    <tr>\n",
       "      <th>2</th>\n",
       "      <td>https://ar.wikipedia.org/wiki/%D8%B1%D9%88%D9%...</td>\n",
       "      <td>668</td>\n",
       "      <td>231236</td>\n",
       "    </tr>\n",
       "    <tr>\n",
       "      <th>3</th>\n",
       "      <td>https://ast.wikipedia.org/wiki/Ronald_Fisher</td>\n",
       "      <td>567</td>\n",
       "      <td>163401</td>\n",
       "    </tr>\n",
       "    <tr>\n",
       "      <th>4</th>\n",
       "      <td>https://azb.wikipedia.org/wiki/%D8%B1%D8%A7%D9...</td>\n",
       "      <td>144</td>\n",
       "      <td>64673</td>\n",
       "    </tr>\n",
       "    <tr>\n",
       "      <th>5</th>\n",
       "      <td>https://bn.wikipedia.org/wiki/%E0%A6%B0%E0%A7%...</td>\n",
       "      <td>138</td>\n",
       "      <td>71283</td>\n",
       "    </tr>\n",
       "    <tr>\n",
       "      <th>6</th>\n",
       "      <td>https://zh-min-nan.wikipedia.org/wiki/Ronald_F...</td>\n",
       "      <td>130</td>\n",
       "      <td>46430</td>\n",
       "    </tr>\n",
       "    <tr>\n",
       "      <th>7</th>\n",
       "      <td>https://be.wikipedia.org/wiki/%D0%A0%D0%BE%D0%...</td>\n",
       "      <td>1357</td>\n",
       "      <td>458506</td>\n",
       "    </tr>\n",
       "    <tr>\n",
       "      <th>8</th>\n",
       "      <td>https://bg.wikipedia.org/wiki/%D0%A0%D0%BE%D0%...</td>\n",
       "      <td>256</td>\n",
       "      <td>101574</td>\n",
       "    </tr>\n",
       "    <tr>\n",
       "      <th>9</th>\n",
       "      <td>https://ca.wikipedia.org/wiki/Ronald_Aylmer_Fi...</td>\n",
       "      <td>403</td>\n",
       "      <td>130078</td>\n",
       "    </tr>\n",
       "    <tr>\n",
       "      <th>10</th>\n",
       "      <td>https://cs.wikipedia.org/wiki/Ronald_Fisher</td>\n",
       "      <td>273</td>\n",
       "      <td>84438</td>\n",
       "    </tr>\n",
       "    <tr>\n",
       "      <th>11</th>\n",
       "      <td>https://cy.wikipedia.org/wiki/Ronald_Fisher</td>\n",
       "      <td>287</td>\n",
       "      <td>95223</td>\n",
       "    </tr>\n",
       "    <tr>\n",
       "      <th>12</th>\n",
       "      <td>https://da.wikipedia.org/wiki/Ronald_Fisher</td>\n",
       "      <td>308</td>\n",
       "      <td>92389</td>\n",
       "    </tr>\n",
       "    <tr>\n",
       "      <th>13</th>\n",
       "      <td>https://de.wikipedia.org/wiki/Ronald_Aylmer_Fi...</td>\n",
       "      <td>308</td>\n",
       "      <td>83156</td>\n",
       "    </tr>\n",
       "    <tr>\n",
       "      <th>14</th>\n",
       "      <td>https://et.wikipedia.org/wiki/Ronald_Fisher</td>\n",
       "      <td>123</td>\n",
       "      <td>47866</td>\n",
       "    </tr>\n",
       "    <tr>\n",
       "      <th>15</th>\n",
       "      <td>https://es.wikipedia.org/wiki/Ronald_Fisher</td>\n",
       "      <td>558</td>\n",
       "      <td>153297</td>\n",
       "    </tr>\n",
       "    <tr>\n",
       "      <th>16</th>\n",
       "      <td>https://eu.wikipedia.org/wiki/Ronald_Fisher</td>\n",
       "      <td>384</td>\n",
       "      <td>126661</td>\n",
       "    </tr>\n",
       "    <tr>\n",
       "      <th>17</th>\n",
       "      <td>https://fa.wikipedia.org/wiki/%D8%B1%D9%88%D9%...</td>\n",
       "      <td>554</td>\n",
       "      <td>162704</td>\n",
       "    </tr>\n",
       "    <tr>\n",
       "      <th>18</th>\n",
       "      <td>https://fr.wikipedia.org/wiki/Ronald_Aylmer_Fi...</td>\n",
       "      <td>957</td>\n",
       "      <td>236703</td>\n",
       "    </tr>\n",
       "    <tr>\n",
       "      <th>19</th>\n",
       "      <td>https://ga.wikipedia.org/wiki/Ronald_Aylmer_Fi...</td>\n",
       "      <td>220</td>\n",
       "      <td>96343</td>\n",
       "    </tr>\n",
       "    <tr>\n",
       "      <th>20</th>\n",
       "      <td>https://gl.wikipedia.org/wiki/Ronald_Fisher</td>\n",
       "      <td>481</td>\n",
       "      <td>133286</td>\n",
       "    </tr>\n",
       "    <tr>\n",
       "      <th>21</th>\n",
       "      <td>https://ko.wikipedia.org/wiki/%EB%A1%9C%EB%84%...</td>\n",
       "      <td>308</td>\n",
       "      <td>96231</td>\n",
       "    </tr>\n",
       "    <tr>\n",
       "      <th>22</th>\n",
       "      <td>https://hy.wikipedia.org/wiki/%D5%8C%D5%B8%D5%...</td>\n",
       "      <td>505</td>\n",
       "      <td>170405</td>\n",
       "    </tr>\n",
       "    <tr>\n",
       "      <th>23</th>\n",
       "      <td>https://id.wikipedia.org/wiki/Ronald_Fisher</td>\n",
       "      <td>151</td>\n",
       "      <td>56435</td>\n",
       "    </tr>\n",
       "    <tr>\n",
       "      <th>24</th>\n",
       "      <td>https://it.wikipedia.org/wiki/Ronald_Fisher</td>\n",
       "      <td>393</td>\n",
       "      <td>94987</td>\n",
       "    </tr>\n",
       "    <tr>\n",
       "      <th>25</th>\n",
       "      <td>https://he.wikipedia.org/wiki/%D7%A8%D7%95%D7%...</td>\n",
       "      <td>348</td>\n",
       "      <td>124189</td>\n",
       "    </tr>\n",
       "    <tr>\n",
       "      <th>26</th>\n",
       "      <td>https://jv.wikipedia.org/wiki/Ronald_Fisher</td>\n",
       "      <td>188</td>\n",
       "      <td>66961</td>\n",
       "    </tr>\n",
       "    <tr>\n",
       "      <th>27</th>\n",
       "      <td>https://ht.wikipedia.org/wiki/Ronald_Fisher</td>\n",
       "      <td>127</td>\n",
       "      <td>45723</td>\n",
       "    </tr>\n",
       "    <tr>\n",
       "      <th>28</th>\n",
       "      <td>https://lv.wikipedia.org/wiki/Ronalds_Fi%C5%A1ers</td>\n",
       "      <td>198</td>\n",
       "      <td>69790</td>\n",
       "    </tr>\n",
       "    <tr>\n",
       "      <th>29</th>\n",
       "      <td>https://mk.wikipedia.org/wiki/%D0%A0%D0%BE%D0%...</td>\n",
       "      <td>289</td>\n",
       "      <td>114385</td>\n",
       "    </tr>\n",
       "    <tr>\n",
       "      <th>30</th>\n",
       "      <td>https://mg.wikipedia.org/wiki/Ronald_Aylmer_Fi...</td>\n",
       "      <td>138</td>\n",
       "      <td>49314</td>\n",
       "    </tr>\n",
       "    <tr>\n",
       "      <th>31</th>\n",
       "      <td>https://xmf.wikipedia.org/wiki/%E1%83%A0%E1%83...</td>\n",
       "      <td>132</td>\n",
       "      <td>52786</td>\n",
       "    </tr>\n",
       "    <tr>\n",
       "      <th>32</th>\n",
       "      <td>https://arz.wikipedia.org/wiki/%D8%B1%D9%88%D9...</td>\n",
       "      <td>305</td>\n",
       "      <td>115009</td>\n",
       "    </tr>\n",
       "    <tr>\n",
       "      <th>33</th>\n",
       "      <td>https://nl.wikipedia.org/wiki/Ronald_Aylmer_Fi...</td>\n",
       "      <td>255</td>\n",
       "      <td>62205</td>\n",
       "    </tr>\n",
       "    <tr>\n",
       "      <th>34</th>\n",
       "      <td>https://ja.wikipedia.org/wiki/%E3%83%AD%E3%83%...</td>\n",
       "      <td>600</td>\n",
       "      <td>173504</td>\n",
       "    </tr>\n",
       "    <tr>\n",
       "      <th>35</th>\n",
       "      <td>https://no.wikipedia.org/wiki/Ronald_Fisher</td>\n",
       "      <td>341</td>\n",
       "      <td>91153</td>\n",
       "    </tr>\n",
       "    <tr>\n",
       "      <th>36</th>\n",
       "      <td>https://pa.wikipedia.org/wiki/%E0%A8%B0%E0%A9%...</td>\n",
       "      <td>213</td>\n",
       "      <td>98320</td>\n",
       "    </tr>\n",
       "    <tr>\n",
       "      <th>37</th>\n",
       "      <td>https://ps.wikipedia.org/wiki/%D8%B1%D9%88%D9%...</td>\n",
       "      <td>299</td>\n",
       "      <td>120069</td>\n",
       "    </tr>\n",
       "    <tr>\n",
       "      <th>38</th>\n",
       "      <td>https://pl.wikipedia.org/wiki/Ronald_Fisher</td>\n",
       "      <td>607</td>\n",
       "      <td>129551</td>\n",
       "    </tr>\n",
       "    <tr>\n",
       "      <th>39</th>\n",
       "      <td>https://pt.wikipedia.org/wiki/Ronald_Fisher</td>\n",
       "      <td>706</td>\n",
       "      <td>156899</td>\n",
       "    </tr>\n",
       "    <tr>\n",
       "      <th>40</th>\n",
       "      <td>https://ro.wikipedia.org/wiki/Ronald_Fisher</td>\n",
       "      <td>328</td>\n",
       "      <td>104863</td>\n",
       "    </tr>\n",
       "    <tr>\n",
       "      <th>41</th>\n",
       "      <td>https://ru.wikipedia.org/wiki/%D0%A4%D0%B8%D1%...</td>\n",
       "      <td>533</td>\n",
       "      <td>156831</td>\n",
       "    </tr>\n",
       "    <tr>\n",
       "      <th>42</th>\n",
       "      <td>https://simple.wikipedia.org/wiki/Ronald_Fisher</td>\n",
       "      <td>247</td>\n",
       "      <td>88957</td>\n",
       "    </tr>\n",
       "    <tr>\n",
       "      <th>43</th>\n",
       "      <td>https://sl.wikipedia.org/wiki/Ronald_Aylmer_Fi...</td>\n",
       "      <td>555</td>\n",
       "      <td>138004</td>\n",
       "    </tr>\n",
       "    <tr>\n",
       "      <th>44</th>\n",
       "      <td>https://sr.wikipedia.org/wiki/%D0%A0%D0%BE%D0%...</td>\n",
       "      <td>795</td>\n",
       "      <td>251963</td>\n",
       "    </tr>\n",
       "    <tr>\n",
       "      <th>45</th>\n",
       "      <td>https://su.wikipedia.org/wiki/Ronald_Fisher</td>\n",
       "      <td>129</td>\n",
       "      <td>52119</td>\n",
       "    </tr>\n",
       "    <tr>\n",
       "      <th>46</th>\n",
       "      <td>https://fi.wikipedia.org/wiki/Ronald_Fisher</td>\n",
       "      <td>195</td>\n",
       "      <td>59812</td>\n",
       "    </tr>\n",
       "    <tr>\n",
       "      <th>47</th>\n",
       "      <td>https://sv.wikipedia.org/wiki/Ronald_Fisher</td>\n",
       "      <td>347</td>\n",
       "      <td>89247</td>\n",
       "    </tr>\n",
       "    <tr>\n",
       "      <th>48</th>\n",
       "      <td>https://ta.wikipedia.org/wiki/%E0%AE%B0%E0%AF%...</td>\n",
       "      <td>154</td>\n",
       "      <td>72800</td>\n",
       "    </tr>\n",
       "    <tr>\n",
       "      <th>49</th>\n",
       "      <td>https://tr.wikipedia.org/wiki/Ronald_Fisher</td>\n",
       "      <td>434</td>\n",
       "      <td>118202</td>\n",
       "    </tr>\n",
       "    <tr>\n",
       "      <th>50</th>\n",
       "      <td>https://uk.wikipedia.org/wiki/%D0%A0%D0%BE%D0%...</td>\n",
       "      <td>806</td>\n",
       "      <td>258867</td>\n",
       "    </tr>\n",
       "    <tr>\n",
       "      <th>51</th>\n",
       "      <td>https://vi.wikipedia.org/wiki/Ronald_Fisher</td>\n",
       "      <td>295</td>\n",
       "      <td>94235</td>\n",
       "    </tr>\n",
       "    <tr>\n",
       "      <th>52</th>\n",
       "      <td>https://zh-yue.wikipedia.org/wiki/%E7%BE%85%E7...</td>\n",
       "      <td>144</td>\n",
       "      <td>54572</td>\n",
       "    </tr>\n",
       "    <tr>\n",
       "      <th>53</th>\n",
       "      <td>https://zh.wikipedia.org/wiki/%E7%BE%85%E7%B4%...</td>\n",
       "      <td>1356</td>\n",
       "      <td>312467</td>\n",
       "    </tr>\n",
       "    <tr>\n",
       "      <th>54</th>\n",
       "      <td>https://www.wikidata.org/wiki/Special:EntityPa...</td>\n",
       "      <td>694</td>\n",
       "      <td>508198</td>\n",
       "    </tr>\n",
       "    <tr>\n",
       "      <th>55</th>\n",
       "      <td>https://en.wikipedia.org/wiki/Ronald_Fisher//w...</td>\n",
       "      <td>58</td>\n",
       "      <td>38262</td>\n",
       "    </tr>\n",
       "    <tr>\n",
       "      <th>56</th>\n",
       "      <td>https://en.wikipedia.org/wiki/Ronald_Fisher//w...</td>\n",
       "      <td>58</td>\n",
       "      <td>38262</td>\n",
       "    </tr>\n",
       "    <tr>\n",
       "      <th>57</th>\n",
       "      <td>https://en.wikipedia.org/wiki/Ronald_Fisher//w...</td>\n",
       "      <td>2067</td>\n",
       "      <td>438138</td>\n",
       "    </tr>\n",
       "    <tr>\n",
       "      <th>58</th>\n",
       "      <td>https://en.wikipedia.org/wiki/Ronald_Fisher//w...</td>\n",
       "      <td>50</td>\n",
       "      <td>32542</td>\n",
       "    </tr>\n",
       "    <tr>\n",
       "      <th>59</th>\n",
       "      <td>https://www.wikidata.org/wiki/Special:EntityPa...</td>\n",
       "      <td>694</td>\n",
       "      <td>508198</td>\n",
       "    </tr>\n",
       "    <tr>\n",
       "      <th>60</th>\n",
       "      <td>https://commons.wikimedia.org/wiki/Ronald_Fisher</td>\n",
       "      <td>113</td>\n",
       "      <td>45762</td>\n",
       "    </tr>\n",
       "    <tr>\n",
       "      <th>61</th>\n",
       "      <td>https://en.wikiquote.org/wiki/Ronald_Fisher</td>\n",
       "      <td>115</td>\n",
       "      <td>51192</td>\n",
       "    </tr>\n",
       "    <tr>\n",
       "      <th>62</th>\n",
       "      <td>https://en.wikipedia.org/wiki/Ronald_Fisher//w...</td>\n",
       "      <td>58</td>\n",
       "      <td>38346</td>\n",
       "    </tr>\n",
       "    <tr>\n",
       "      <th>63</th>\n",
       "      <td>https://en.wikipedia.org/wiki/Ronald_Fisher//w...</td>\n",
       "      <td>58</td>\n",
       "      <td>38352</td>\n",
       "    </tr>\n",
       "    <tr>\n",
       "      <th>64</th>\n",
       "      <td>https://mathgenealogy.org/id.php?id=46924</td>\n",
       "      <td>50</td>\n",
       "      <td>13662</td>\n",
       "    </tr>\n",
       "    <tr>\n",
       "      <th>65</th>\n",
       "      <td>https://books.google.com/books?id=YBI2DwAAQBAJ...</td>\n",
       "      <td>44</td>\n",
       "      <td>45566</td>\n",
       "    </tr>\n",
       "    <tr>\n",
       "      <th>66</th>\n",
       "      <td>https://www.britannica.com/biography/Ronald-Ay...</td>\n",
       "      <td>129</td>\n",
       "      <td>95024</td>\n",
       "    </tr>\n",
       "    <tr>\n",
       "      <th>67</th>\n",
       "      <td>https://projecteuclid.org/DPubS?service=UI&amp;ver...</td>\n",
       "      <td>67</td>\n",
       "      <td>74521</td>\n",
       "    </tr>\n",
       "    <tr>\n",
       "      <th>68</th>\n",
       "      <td>https://doi.org/10.1214%2Fss%2F1028905930</td>\n",
       "      <td>97</td>\n",
       "      <td>144032</td>\n",
       "    </tr>\n",
       "    <tr>\n",
       "      <th>69</th>\n",
       "      <td>https://doi.org/10.1007%2Fs00265-010-1122-x</td>\n",
       "      <td>194</td>\n",
       "      <td>256806</td>\n",
       "    </tr>\n",
       "    <tr>\n",
       "      <th>70</th>\n",
       "      <td>https://pubmed.ncbi.nlm.nih.gov/21423339</td>\n",
       "      <td>93</td>\n",
       "      <td>107820</td>\n",
       "    </tr>\n",
       "    <tr>\n",
       "      <th>71</th>\n",
       "      <td>http://www-history.mcs.st-and.ac.uk/Obits/Fish...</td>\n",
       "      <td>0</td>\n",
       "      <td>107785</td>\n",
       "    </tr>\n",
       "    <tr>\n",
       "      <th>72</th>\n",
       "      <td>https://www.ucl.ac.uk/biosciences/departments/...</td>\n",
       "      <td>83</td>\n",
       "      <td>65382</td>\n",
       "    </tr>\n",
       "    <tr>\n",
       "      <th>73</th>\n",
       "      <td>http://www-history.mcs.st-andrews.ac.uk/Biogra...</td>\n",
       "      <td>97</td>\n",
       "      <td>39078</td>\n",
       "    </tr>\n",
       "    <tr>\n",
       "      <th>74</th>\n",
       "      <td>https://web.archive.org/web/20210628012356/htt...</td>\n",
       "      <td>46</td>\n",
       "      <td>53155</td>\n",
       "    </tr>\n",
       "    <tr>\n",
       "      <th>75</th>\n",
       "      <td>http://www.economics.soton.ac.uk/staff/aldrich...</td>\n",
       "      <td>485</td>\n",
       "      <td>202383</td>\n",
       "    </tr>\n",
       "    <tr>\n",
       "      <th>76</th>\n",
       "      <td>https://pubmed.ncbi.nlm.nih.gov/21259607</td>\n",
       "      <td>93</td>\n",
       "      <td>105245</td>\n",
       "    </tr>\n",
       "    <tr>\n",
       "      <th>77</th>\n",
       "      <td>https://zenodo.org/record/1428666</td>\n",
       "      <td>57</td>\n",
       "      <td>24481</td>\n",
       "    </tr>\n",
       "    <tr>\n",
       "      <th>78</th>\n",
       "      <td>https://doi.org/10.1017%2Fs0080456800012163</td>\n",
       "      <td>154</td>\n",
       "      <td>360248</td>\n",
       "    </tr>\n",
       "    <tr>\n",
       "      <th>79</th>\n",
       "      <td>https://api.semanticscholar.org/CorpusID:18121...</td>\n",
       "      <td>78</td>\n",
       "      <td>271608</td>\n",
       "    </tr>\n",
       "    <tr>\n",
       "      <th>80</th>\n",
       "      <td>http://www-history.mcs.st-and.ac.uk/Extras/Fis...</td>\n",
       "      <td>13</td>\n",
       "      <td>19452</td>\n",
       "    </tr>\n",
       "    <tr>\n",
       "      <th>81</th>\n",
       "      <td>https://doi.org/10.1017%2FS0021859600003750</td>\n",
       "      <td>155</td>\n",
       "      <td>361267</td>\n",
       "    </tr>\n",
       "    <tr>\n",
       "      <th>82</th>\n",
       "      <td>https://hdl.handle.net/2440%2F15170</td>\n",
       "      <td>30</td>\n",
       "      <td>12544</td>\n",
       "    </tr>\n",
       "    <tr>\n",
       "      <th>83</th>\n",
       "      <td>https://api.semanticscholar.org/CorpusID:86029217</td>\n",
       "      <td>81</td>\n",
       "      <td>276347</td>\n",
       "    </tr>\n",
       "    <tr>\n",
       "      <th>84</th>\n",
       "      <td>https://doi.org/10.1017%2FS0021859600003592</td>\n",
       "      <td>154</td>\n",
       "      <td>346435</td>\n",
       "    </tr>\n",
       "    <tr>\n",
       "      <th>85</th>\n",
       "      <td>https://hdl.handle.net/2440%2F15179</td>\n",
       "      <td>31</td>\n",
       "      <td>12748</td>\n",
       "    </tr>\n",
       "    <tr>\n",
       "      <th>86</th>\n",
       "      <td>https://api.semanticscholar.org/CorpusID:85985907</td>\n",
       "      <td>74</td>\n",
       "      <td>244561</td>\n",
       "    </tr>\n",
       "    <tr>\n",
       "      <th>87</th>\n",
       "      <td>https://archive.org/details/statisticalmethoe7...</td>\n",
       "      <td>173</td>\n",
       "      <td>185325</td>\n",
       "    </tr>\n",
       "    <tr>\n",
       "      <th>88</th>\n",
       "      <td>http://www.jerrydallal.com/LHSP/LHSP.htm</td>\n",
       "      <td>113</td>\n",
       "      <td>13769</td>\n",
       "    </tr>\n",
       "    <tr>\n",
       "      <th>89</th>\n",
       "      <td>https://archive.org/details/statisticalmethoe7...</td>\n",
       "      <td>173</td>\n",
       "      <td>185325</td>\n",
       "    </tr>\n",
       "    <tr>\n",
       "      <th>90</th>\n",
       "      <td>https://archive.org/details/statisticalmethoe7...</td>\n",
       "      <td>173</td>\n",
       "      <td>185326</td>\n",
       "    </tr>\n",
       "    <tr>\n",
       "      <th>91</th>\n",
       "      <td>http://psychclassics.yorku.ca/Fisher/Methods/t...</td>\n",
       "      <td>2</td>\n",
       "      <td>189970</td>\n",
       "    </tr>\n",
       "    <tr>\n",
       "      <th>92</th>\n",
       "      <td>https://doi.org/10.1007%2Fbf02983317</td>\n",
       "      <td>54</td>\n",
       "      <td>126525</td>\n",
       "    </tr>\n",
       "    <tr>\n",
       "      <th>93</th>\n",
       "      <td>https://archive.org/details/richarddawkinsho00...</td>\n",
       "      <td>176</td>\n",
       "      <td>197678</td>\n",
       "    </tr>\n",
       "    <tr>\n",
       "      <th>94</th>\n",
       "      <td>https://archive.org/details/richarddawkinsho00...</td>\n",
       "      <td>176</td>\n",
       "      <td>184614</td>\n",
       "    </tr>\n",
       "    <tr>\n",
       "      <th>95</th>\n",
       "      <td>http://bio.research.ucsc.edu/~barrylab/classes...</td>\n",
       "      <td>33</td>\n",
       "      <td>18898</td>\n",
       "    </tr>\n",
       "    <tr>\n",
       "      <th>96</th>\n",
       "      <td>http://www.ucl.ac.uk/statistics/department/his...</td>\n",
       "      <td>51</td>\n",
       "      <td>41884</td>\n",
       "    </tr>\n",
       "    <tr>\n",
       "      <th>97</th>\n",
       "      <td>https://mathscinet.ams.org/mathscinet-getitem?...</td>\n",
       "      <td>6</td>\n",
       "      <td>3269</td>\n",
       "    </tr>\n",
       "    <tr>\n",
       "      <th>98</th>\n",
       "      <td>https://hdl.handle.net/2440%2F15222</td>\n",
       "      <td>30</td>\n",
       "      <td>12299</td>\n",
       "    </tr>\n",
       "    <tr>\n",
       "      <th>99</th>\n",
       "      <td>https://hdl.handle.net/2440%2F15227</td>\n",
       "      <td>30</td>\n",
       "      <td>12341</td>\n",
       "    </tr>\n",
       "    <tr>\n",
       "      <th>100</th>\n",
       "      <td>http://digital.library.adelaide.edu.au/dspace/...</td>\n",
       "      <td>30</td>\n",
       "      <td>12249</td>\n",
       "    </tr>\n",
       "    <tr>\n",
       "      <th>101</th>\n",
       "      <td>https://people.maths.ox.ac.uk/trefethen/pdectb...</td>\n",
       "      <td>0</td>\n",
       "      <td>255189</td>\n",
       "    </tr>\n",
       "    <tr>\n",
       "      <th>102</th>\n",
       "      <td>http://hdl.handle.net/2440/10701</td>\n",
       "      <td>31</td>\n",
       "      <td>12428</td>\n",
       "    </tr>\n",
       "    <tr>\n",
       "      <th>103</th>\n",
       "      <td>https://arxiv.org/abs/q-bio/0504018</td>\n",
       "      <td>71</td>\n",
       "      <td>46309</td>\n",
       "    </tr>\n",
       "    <tr>\n",
       "      <th>104</th>\n",
       "      <td>https://ui.adsabs.harvard.edu/abs/2003Natur.42...</td>\n",
       "      <td>36</td>\n",
       "      <td>39185</td>\n",
       "    </tr>\n",
       "    <tr>\n",
       "      <th>105</th>\n",
       "      <td>https://doi.org/10.1038%2Fnature01883</td>\n",
       "      <td>226</td>\n",
       "      <td>241538</td>\n",
       "    </tr>\n",
       "  </tbody>\n",
       "</table>\n",
       "</div>"
      ],
      "text/plain": [
       "                                                   URL  num_links  \\\n",
       "0          https://en.wikipedia.org/wiki/Ronald_Fisher       2057   \n",
       "1    https://donate.wikimedia.org/wiki/Special:Fund...         33   \n",
       "2    https://ar.wikipedia.org/wiki/%D8%B1%D9%88%D9%...        668   \n",
       "3         https://ast.wikipedia.org/wiki/Ronald_Fisher        567   \n",
       "4    https://azb.wikipedia.org/wiki/%D8%B1%D8%A7%D9...        144   \n",
       "5    https://bn.wikipedia.org/wiki/%E0%A6%B0%E0%A7%...        138   \n",
       "6    https://zh-min-nan.wikipedia.org/wiki/Ronald_F...        130   \n",
       "7    https://be.wikipedia.org/wiki/%D0%A0%D0%BE%D0%...       1357   \n",
       "8    https://bg.wikipedia.org/wiki/%D0%A0%D0%BE%D0%...        256   \n",
       "9    https://ca.wikipedia.org/wiki/Ronald_Aylmer_Fi...        403   \n",
       "10         https://cs.wikipedia.org/wiki/Ronald_Fisher        273   \n",
       "11         https://cy.wikipedia.org/wiki/Ronald_Fisher        287   \n",
       "12         https://da.wikipedia.org/wiki/Ronald_Fisher        308   \n",
       "13   https://de.wikipedia.org/wiki/Ronald_Aylmer_Fi...        308   \n",
       "14         https://et.wikipedia.org/wiki/Ronald_Fisher        123   \n",
       "15         https://es.wikipedia.org/wiki/Ronald_Fisher        558   \n",
       "16         https://eu.wikipedia.org/wiki/Ronald_Fisher        384   \n",
       "17   https://fa.wikipedia.org/wiki/%D8%B1%D9%88%D9%...        554   \n",
       "18   https://fr.wikipedia.org/wiki/Ronald_Aylmer_Fi...        957   \n",
       "19   https://ga.wikipedia.org/wiki/Ronald_Aylmer_Fi...        220   \n",
       "20         https://gl.wikipedia.org/wiki/Ronald_Fisher        481   \n",
       "21   https://ko.wikipedia.org/wiki/%EB%A1%9C%EB%84%...        308   \n",
       "22   https://hy.wikipedia.org/wiki/%D5%8C%D5%B8%D5%...        505   \n",
       "23         https://id.wikipedia.org/wiki/Ronald_Fisher        151   \n",
       "24         https://it.wikipedia.org/wiki/Ronald_Fisher        393   \n",
       "25   https://he.wikipedia.org/wiki/%D7%A8%D7%95%D7%...        348   \n",
       "26         https://jv.wikipedia.org/wiki/Ronald_Fisher        188   \n",
       "27         https://ht.wikipedia.org/wiki/Ronald_Fisher        127   \n",
       "28   https://lv.wikipedia.org/wiki/Ronalds_Fi%C5%A1ers        198   \n",
       "29   https://mk.wikipedia.org/wiki/%D0%A0%D0%BE%D0%...        289   \n",
       "30   https://mg.wikipedia.org/wiki/Ronald_Aylmer_Fi...        138   \n",
       "31   https://xmf.wikipedia.org/wiki/%E1%83%A0%E1%83...        132   \n",
       "32   https://arz.wikipedia.org/wiki/%D8%B1%D9%88%D9...        305   \n",
       "33   https://nl.wikipedia.org/wiki/Ronald_Aylmer_Fi...        255   \n",
       "34   https://ja.wikipedia.org/wiki/%E3%83%AD%E3%83%...        600   \n",
       "35         https://no.wikipedia.org/wiki/Ronald_Fisher        341   \n",
       "36   https://pa.wikipedia.org/wiki/%E0%A8%B0%E0%A9%...        213   \n",
       "37   https://ps.wikipedia.org/wiki/%D8%B1%D9%88%D9%...        299   \n",
       "38         https://pl.wikipedia.org/wiki/Ronald_Fisher        607   \n",
       "39         https://pt.wikipedia.org/wiki/Ronald_Fisher        706   \n",
       "40         https://ro.wikipedia.org/wiki/Ronald_Fisher        328   \n",
       "41   https://ru.wikipedia.org/wiki/%D0%A4%D0%B8%D1%...        533   \n",
       "42     https://simple.wikipedia.org/wiki/Ronald_Fisher        247   \n",
       "43   https://sl.wikipedia.org/wiki/Ronald_Aylmer_Fi...        555   \n",
       "44   https://sr.wikipedia.org/wiki/%D0%A0%D0%BE%D0%...        795   \n",
       "45         https://su.wikipedia.org/wiki/Ronald_Fisher        129   \n",
       "46         https://fi.wikipedia.org/wiki/Ronald_Fisher        195   \n",
       "47         https://sv.wikipedia.org/wiki/Ronald_Fisher        347   \n",
       "48   https://ta.wikipedia.org/wiki/%E0%AE%B0%E0%AF%...        154   \n",
       "49         https://tr.wikipedia.org/wiki/Ronald_Fisher        434   \n",
       "50   https://uk.wikipedia.org/wiki/%D0%A0%D0%BE%D0%...        806   \n",
       "51         https://vi.wikipedia.org/wiki/Ronald_Fisher        295   \n",
       "52   https://zh-yue.wikipedia.org/wiki/%E7%BE%85%E7...        144   \n",
       "53   https://zh.wikipedia.org/wiki/%E7%BE%85%E7%B4%...       1356   \n",
       "54   https://www.wikidata.org/wiki/Special:EntityPa...        694   \n",
       "55   https://en.wikipedia.org/wiki/Ronald_Fisher//w...         58   \n",
       "56   https://en.wikipedia.org/wiki/Ronald_Fisher//w...         58   \n",
       "57   https://en.wikipedia.org/wiki/Ronald_Fisher//w...       2067   \n",
       "58   https://en.wikipedia.org/wiki/Ronald_Fisher//w...         50   \n",
       "59   https://www.wikidata.org/wiki/Special:EntityPa...        694   \n",
       "60    https://commons.wikimedia.org/wiki/Ronald_Fisher        113   \n",
       "61         https://en.wikiquote.org/wiki/Ronald_Fisher        115   \n",
       "62   https://en.wikipedia.org/wiki/Ronald_Fisher//w...         58   \n",
       "63   https://en.wikipedia.org/wiki/Ronald_Fisher//w...         58   \n",
       "64           https://mathgenealogy.org/id.php?id=46924         50   \n",
       "65   https://books.google.com/books?id=YBI2DwAAQBAJ...         44   \n",
       "66   https://www.britannica.com/biography/Ronald-Ay...        129   \n",
       "67   https://projecteuclid.org/DPubS?service=UI&ver...         67   \n",
       "68           https://doi.org/10.1214%2Fss%2F1028905930         97   \n",
       "69         https://doi.org/10.1007%2Fs00265-010-1122-x        194   \n",
       "70            https://pubmed.ncbi.nlm.nih.gov/21423339         93   \n",
       "71   http://www-history.mcs.st-and.ac.uk/Obits/Fish...          0   \n",
       "72   https://www.ucl.ac.uk/biosciences/departments/...         83   \n",
       "73   http://www-history.mcs.st-andrews.ac.uk/Biogra...         97   \n",
       "74   https://web.archive.org/web/20210628012356/htt...         46   \n",
       "75   http://www.economics.soton.ac.uk/staff/aldrich...        485   \n",
       "76            https://pubmed.ncbi.nlm.nih.gov/21259607         93   \n",
       "77                   https://zenodo.org/record/1428666         57   \n",
       "78         https://doi.org/10.1017%2Fs0080456800012163        154   \n",
       "79   https://api.semanticscholar.org/CorpusID:18121...         78   \n",
       "80   http://www-history.mcs.st-and.ac.uk/Extras/Fis...         13   \n",
       "81         https://doi.org/10.1017%2FS0021859600003750        155   \n",
       "82                 https://hdl.handle.net/2440%2F15170         30   \n",
       "83   https://api.semanticscholar.org/CorpusID:86029217         81   \n",
       "84         https://doi.org/10.1017%2FS0021859600003592        154   \n",
       "85                 https://hdl.handle.net/2440%2F15179         31   \n",
       "86   https://api.semanticscholar.org/CorpusID:85985907         74   \n",
       "87   https://archive.org/details/statisticalmethoe7...        173   \n",
       "88            http://www.jerrydallal.com/LHSP/LHSP.htm        113   \n",
       "89   https://archive.org/details/statisticalmethoe7...        173   \n",
       "90   https://archive.org/details/statisticalmethoe7...        173   \n",
       "91   http://psychclassics.yorku.ca/Fisher/Methods/t...          2   \n",
       "92                https://doi.org/10.1007%2Fbf02983317         54   \n",
       "93   https://archive.org/details/richarddawkinsho00...        176   \n",
       "94   https://archive.org/details/richarddawkinsho00...        176   \n",
       "95   http://bio.research.ucsc.edu/~barrylab/classes...         33   \n",
       "96   http://www.ucl.ac.uk/statistics/department/his...         51   \n",
       "97   https://mathscinet.ams.org/mathscinet-getitem?...          6   \n",
       "98                 https://hdl.handle.net/2440%2F15222         30   \n",
       "99                 https://hdl.handle.net/2440%2F15227         30   \n",
       "100  http://digital.library.adelaide.edu.au/dspace/...         30   \n",
       "101  https://people.maths.ox.ac.uk/trefethen/pdectb...          0   \n",
       "102                   http://hdl.handle.net/2440/10701         31   \n",
       "103                https://arxiv.org/abs/q-bio/0504018         71   \n",
       "104  https://ui.adsabs.harvard.edu/abs/2003Natur.42...         36   \n",
       "105              https://doi.org/10.1038%2Fnature01883        226   \n",
       "\n",
       "     Tamanho_arquivo  \n",
       "0             436085  \n",
       "1              58609  \n",
       "2             231236  \n",
       "3             163401  \n",
       "4              64673  \n",
       "5              71283  \n",
       "6              46430  \n",
       "7             458506  \n",
       "8             101574  \n",
       "9             130078  \n",
       "10             84438  \n",
       "11             95223  \n",
       "12             92389  \n",
       "13             83156  \n",
       "14             47866  \n",
       "15            153297  \n",
       "16            126661  \n",
       "17            162704  \n",
       "18            236703  \n",
       "19             96343  \n",
       "20            133286  \n",
       "21             96231  \n",
       "22            170405  \n",
       "23             56435  \n",
       "24             94987  \n",
       "25            124189  \n",
       "26             66961  \n",
       "27             45723  \n",
       "28             69790  \n",
       "29            114385  \n",
       "30             49314  \n",
       "31             52786  \n",
       "32            115009  \n",
       "33             62205  \n",
       "34            173504  \n",
       "35             91153  \n",
       "36             98320  \n",
       "37            120069  \n",
       "38            129551  \n",
       "39            156899  \n",
       "40            104863  \n",
       "41            156831  \n",
       "42             88957  \n",
       "43            138004  \n",
       "44            251963  \n",
       "45             52119  \n",
       "46             59812  \n",
       "47             89247  \n",
       "48             72800  \n",
       "49            118202  \n",
       "50            258867  \n",
       "51             94235  \n",
       "52             54572  \n",
       "53            312467  \n",
       "54            508198  \n",
       "55             38262  \n",
       "56             38262  \n",
       "57            438138  \n",
       "58             32542  \n",
       "59            508198  \n",
       "60             45762  \n",
       "61             51192  \n",
       "62             38346  \n",
       "63             38352  \n",
       "64             13662  \n",
       "65             45566  \n",
       "66             95024  \n",
       "67             74521  \n",
       "68            144032  \n",
       "69            256806  \n",
       "70            107820  \n",
       "71            107785  \n",
       "72             65382  \n",
       "73             39078  \n",
       "74             53155  \n",
       "75            202383  \n",
       "76            105245  \n",
       "77             24481  \n",
       "78            360248  \n",
       "79            271608  \n",
       "80             19452  \n",
       "81            361267  \n",
       "82             12544  \n",
       "83            276347  \n",
       "84            346435  \n",
       "85             12748  \n",
       "86            244561  \n",
       "87            185325  \n",
       "88             13769  \n",
       "89            185325  \n",
       "90            185326  \n",
       "91            189970  \n",
       "92            126525  \n",
       "93            197678  \n",
       "94            184614  \n",
       "95             18898  \n",
       "96             41884  \n",
       "97              3269  \n",
       "98             12299  \n",
       "99             12341  \n",
       "100            12249  \n",
       "101           255189  \n",
       "102            12428  \n",
       "103            46309  \n",
       "104            39185  \n",
       "105           241538  "
      ]
     },
     "execution_count": 175,
     "metadata": {},
     "output_type": "execute_result"
    }
   ],
   "source": [
    "pd.options.display.max_rows = None\n",
    "df"
   ]
  },
  {
   "cell_type": "code",
   "execution_count": null,
   "id": "63f4a785",
   "metadata": {},
   "outputs": [],
   "source": []
  }
 ],
 "metadata": {
  "kernelspec": {
   "display_name": "Python 3 (ipykernel)",
   "language": "python",
   "name": "python3"
  },
  "language_info": {
   "codemirror_mode": {
    "name": "ipython",
    "version": 3
   },
   "file_extension": ".py",
   "mimetype": "text/x-python",
   "name": "python",
   "nbconvert_exporter": "python",
   "pygments_lexer": "ipython3",
   "version": "3.12.3"
  }
 },
 "nbformat": 4,
 "nbformat_minor": 5
}
