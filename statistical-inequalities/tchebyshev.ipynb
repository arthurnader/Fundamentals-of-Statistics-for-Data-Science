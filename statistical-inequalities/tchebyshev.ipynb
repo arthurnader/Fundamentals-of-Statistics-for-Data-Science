{
 "cells": [
  {
   "cell_type": "markdown",
   "id": "b5a5a012",
   "metadata": {},
   "source": [
    "# Tchebyshev's Inequality\n",
    "\n",
    "Name: Arthur Pontes Nader"
   ]
  },
  {
   "cell_type": "markdown",
   "id": "0888d98a",
   "metadata": {},
   "source": [
    "### Libraries"
   ]
  },
  {
   "cell_type": "code",
   "execution_count": 19,
   "id": "5d2737a5",
   "metadata": {},
   "outputs": [],
   "source": [
    "import scipy.stats as stats\n",
    "import numpy as np"
   ]
  },
  {
   "cell_type": "markdown",
   "id": "a9273094",
   "metadata": {},
   "source": [
    "Standard deviation is the universal standard for measuring deviations. And Tchebyshev's inequality is a justification for this statement. Let Y any random variable with E[Y] = μ. So, the following inequality holds:\n",
    "\n",
    "$$ P(|Y - \\mu| \\geq k\\sigma) \\leq \\frac{1}{k^2} $$\n"
   ]
  },
  {
   "cell_type": "markdown",
   "id": "a1c0f080",
   "metadata": {},
   "source": [
    "If k = 2, we have:\n",
    "\n",
    "$$ P(|Y - \\mu| \\geq 2\\sigma) \\leq 0.25 $$\n"
   ]
  },
  {
   "cell_type": "markdown",
   "id": "aa02a81b",
   "metadata": {},
   "source": [
    "It tells you that the probability of Y deviate more than 2 standard deviations from its expectation is less or equal to 0.25. This holds for every and any random variable."
   ]
  },
  {
   "cell_type": "markdown",
   "id": "946698d1",
   "metadata": {},
   "source": [
    "Notice how the probability drops with increasing k:"
   ]
  },
  {
   "cell_type": "code",
   "execution_count": 13,
   "id": "79f7c15c",
   "metadata": {},
   "outputs": [
    {
     "name": "stdout",
     "output_type": "stream",
     "text": [
      "P(|Y-μ| > 2σ) <= 0.25\n",
      "P(|Y-μ| > 3σ) <= 0.111\n",
      "P(|Y-μ| > 4σ) <= 0.062\n",
      "P(|Y-μ| > 5σ) <= 0.04\n",
      "P(|Y-μ| > 6σ) <= 0.028\n",
      "P(|Y-μ| > 7σ) <= 0.02\n",
      "P(|Y-μ| > 8σ) <= 0.016\n",
      "P(|Y-μ| > 9σ) <= 0.012\n",
      "P(|Y-μ| > 10σ) <= 0.01\n"
     ]
    }
   ],
   "source": [
    "for k in range(2, 11):\n",
    "    print(\"P(|Y-μ| > \" +str(k)+ \"σ) <= \" + str(round(1/(k**2),3)))"
   ]
  },
  {
   "cell_type": "markdown",
   "id": "5d55001d",
   "metadata": {},
   "source": [
    "Because it is valid for any and all inequality, it is not very “tight” for some random variables. For example, let Y be a N(0, 1) and k = 2. The inequality above states that the probability is less or equal to 0.25, but using the density of the gaussian, we get:"
   ]
  },
  {
   "cell_type": "code",
   "execution_count": 17,
   "id": "23da3204",
   "metadata": {},
   "outputs": [
    {
     "name": "stdout",
     "output_type": "stream",
     "text": [
      "P(|Y - μ| ≥ 2σ) = 0.04550026\n"
     ]
    }
   ],
   "source": [
    "mu = 0\n",
    "sigma = 1\n",
    "k = 2\n",
    "\n",
    "prob = 2 * (1 - stats.norm.cdf(k))\n",
    "\n",
    "print(f\"P(|Y - μ| ≥ {k}σ) = {prob:.8f}\")"
   ]
  },
  {
   "cell_type": "markdown",
   "id": "6b8d7a4d",
   "metadata": {},
   "source": [
    "## Prediction interval\n",
    "\n",
    "Let's use the Tchebyshev's inequality to generate a prediction interval for X. Let X an arbitrary probability distribution with E(X) = $\\mu$ = 120 and Var(X) = $\\sigma$² = 10².\n",
    "Using the inequality, we have to show that the interval (75, 165) may contains at least 95% of the generated data from X."
   ]
  },
  {
   "cell_type": "markdown",
   "id": "842ce227",
   "metadata": {},
   "source": [
    "1/k² = 0.05\\\n",
    "k² = 1/0.05\\\n",
    "k² = 20\\\n",
    "k = $\\sqrt20$"
   ]
  },
  {
   "cell_type": "code",
   "execution_count": 25,
   "id": "96b83dff",
   "metadata": {},
   "outputs": [
    {
     "name": "stdout",
     "output_type": "stream",
     "text": [
      "Intervalo de predição: (75.28, 164.72)\n"
     ]
    }
   ],
   "source": [
    "mu = 120\n",
    "sigma = 10\n",
    "k = np.sqrt(20) ## the value of k associated to the 0.05 probability\n",
    "\n",
    "limite_inferior = mu - k*sigma\n",
    "limite_superior = mu + k*sigma\n",
    "\n",
    "print(f\"Intervalo de predição: ({limite_inferior:.2f}, {limite_superior:.2f})\")"
   ]
  },
  {
   "cell_type": "markdown",
   "id": "6ef04fe9",
   "metadata": {},
   "source": [
    "Now, suppose we discovered that X is a gaussian distribution. What is the new interval that will contain 95% of the values of X?"
   ]
  },
  {
   "cell_type": "code",
   "execution_count": 26,
   "id": "a10f956b",
   "metadata": {},
   "outputs": [
    {
     "name": "stdout",
     "output_type": "stream",
     "text": [
      "Intervalo de predição: (100.4, 139.6)\n"
     ]
    }
   ],
   "source": [
    "alpha = 0.05 \n",
    "z = stats.norm.ppf(1 - alpha/2)  \n",
    "\n",
    "lower_bound = mu - z*sigma\n",
    "upper_bound = mu + z*sigma\n",
    "\n",
    "print(f\"Intervalo de predição: ({lower_bound:.1f}, {upper_bound:.1f})\")"
   ]
  },
  {
   "cell_type": "markdown",
   "id": "331b3279",
   "metadata": {},
   "source": [
    "##  Encountering a tall person\n",
    "\n",
    "You and a friend are traveling to a city where, and don't ask how, you know that the heights of the people are distributed with a mean ($\\mu$) of 170 and a standard deviation ($\\sigma$) of 10. Upon arrival, you encounter a man who is 210 cm tall waiting for your arrival. What is the maximum probability of encountering a very tall man?"
   ]
  },
  {
   "cell_type": "code",
   "execution_count": 53,
   "id": "d70f75f8",
   "metadata": {},
   "outputs": [
    {
     "data": {
      "text/plain": [
       "4.0"
      ]
     },
     "execution_count": 53,
     "metadata": {},
     "output_type": "execute_result"
    }
   ],
   "source": [
    "k = (210-170)/10\n",
    "k"
   ]
  },
  {
   "cell_type": "code",
   "execution_count": 54,
   "id": "7c3d1527",
   "metadata": {},
   "outputs": [
    {
     "data": {
      "text/plain": [
       "0.0625"
      ]
     },
     "execution_count": 54,
     "metadata": {},
     "output_type": "execute_result"
    }
   ],
   "source": [
    "prob = 1/(k**2)\n",
    "prob"
   ]
  },
  {
   "cell_type": "markdown",
   "id": "d0437254",
   "metadata": {},
   "source": [
    "Now, you remembered that $\\mu$ is 180 and $\\sigma$ is 10 for the men in this city. What is the new probability value?"
   ]
  },
  {
   "cell_type": "code",
   "execution_count": 55,
   "id": "f3f1d08f",
   "metadata": {},
   "outputs": [
    {
     "data": {
      "text/plain": [
       "3.0"
      ]
     },
     "execution_count": 55,
     "metadata": {},
     "output_type": "execute_result"
    }
   ],
   "source": [
    "k = (210-180)/10\n",
    "k"
   ]
  },
  {
   "cell_type": "code",
   "execution_count": 56,
   "id": "c6868361",
   "metadata": {},
   "outputs": [
    {
     "data": {
      "text/plain": [
       "0.1111111111111111"
      ]
     },
     "execution_count": 56,
     "metadata": {},
     "output_type": "execute_result"
    }
   ],
   "source": [
    "prob = 1/(k**2)\n",
    "prob"
   ]
  },
  {
   "cell_type": "markdown",
   "id": "d58c3b03",
   "metadata": {},
   "source": []
  }
 ],
 "metadata": {
  "kernelspec": {
   "display_name": "Python 3 (ipykernel)",
   "language": "python",
   "name": "python3"
  },
  "language_info": {
   "codemirror_mode": {
    "name": "ipython",
    "version": 3
   },
   "file_extension": ".py",
   "mimetype": "text/x-python",
   "name": "python",
   "nbconvert_exporter": "python",
   "pygments_lexer": "ipython3",
   "version": "3.12.3"
  }
 },
 "nbformat": 4,
 "nbformat_minor": 5
}
