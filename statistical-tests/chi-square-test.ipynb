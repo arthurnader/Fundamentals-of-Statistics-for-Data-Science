{
 "cells": [
  {
   "cell_type": "markdown",
   "id": "18163fd4",
   "metadata": {},
   "source": [
    "# Chi-Square Test\n",
    "\n",
    "Name: Arthur Pontes Nader\n"
   ]
  },
  {
   "cell_type": "markdown",
   "id": "3c10a4e0",
   "metadata": {},
   "source": [
    "##### We have to compare the theoretical with the observed"
   ]
  },
  {
   "cell_type": "markdown",
   "id": "d90fddda",
   "metadata": {},
   "source": [
    "We observed a sequence of samples of a random variable Y: $Y_1, Y_2, ..., Y_n$. We suppose this data is i.i.d and comes from a theoretical distribution $F(y)$, that can be for example Bin(20,0,1), Poisson(5), exp(10), N(0,1), and so on. The Chi-Square test is a way to verify if the samples are random variable i.i.d of this theoreical model, whatever it may be. This test has 2 main advantages: can be used with both continuous and discrete distributions and knows how to handle with quantities estimated from the data."
   ]
  },
  {
   "cell_type": "markdown",
   "id": "7e785a59",
   "metadata": {},
   "source": [
    "## Libraries"
   ]
  },
  {
   "cell_type": "code",
   "execution_count": 2,
   "id": "4a78ddd8",
   "metadata": {},
   "outputs": [],
   "source": [
    "import matplotlib.pyplot as plt\n",
    "import scipy.stats as stats\n",
    "import numpy as np\n",
    "import math\n",
    "import pandas as pd\n",
    "\n",
    "from scipy.special import comb\n",
    "from scipy.stats import chi2, poisson, chisquare, kstest"
   ]
  },
  {
   "cell_type": "markdown",
   "id": "0938ba6a",
   "metadata": {},
   "source": [
    "For a better understand of the test, let's divide it into a sequence of 3 steps."
   ]
  },
  {
   "cell_type": "markdown",
   "id": "568f3d2f",
   "metadata": {},
   "source": [
    "## Step 1\n",
    "\n",
    "First of all, we have to partition the possible values of Y in N categories. For example:\n",
    "\n",
    "- $Bin(20,0.1) : Y = 0, Y = 1, Y = 2, Y = 3, Y >= 4.$\n",
    "\n",
    "- $Poisson(5) : Y = 0, Y = 1, Y = 2, ..., Y = 10, Y >= 11.$\n",
    "\n",
    "- $exp(10) : [0,0.05), [0.05,0.1), [0.1,0.2), [0.4, ∞) $\n",
    "\n",
    "- $N(0,1) :  (−∞, −2), [−2, −1), [−1, 0), [0, 1), [1, 2), (2, ∞)$\n"
   ]
  },
  {
   "cell_type": "markdown",
   "id": "6efe8841",
   "metadata": {},
   "source": [
    "\n",
    "## Step 2\n",
    "\n",
    "For each k category, calculate the number $N_k$ of elements of $Y_1, Y_2, ..., Y_n$ that fall in the k category. This is the observed frequency. We also have to calculate the expected number of observations that should fall into this category.\n",
    "\n",
    "$$E_k = n \\cdot P(Y \\in k_{category})$$\n",
    "\n",
    "For example, if the theoretical model is a Bin(20,0.1), we have a sample of size n = 53 and the category is Y = 0:\n",
    "$$E_k = 53 \\cdot P(Y = 0)$$\n",
    "$$E_k = 53 \\cdot (1-0.1)^{20}$$\n",
    "$$E_k = 6.44$$"
   ]
  },
  {
   "cell_type": "markdown",
   "id": "6f9afc3c",
   "metadata": {},
   "source": [
    "## Step 3\n",
    "\n",
    "$E_k$ is the expected value if the theoretical model is the true model. We have to compare the observed frequencies $N_k$ with the expected frequencies $E_k$. If they are very different, it is evidence that the theoretical model is not close to reality. Otherwise, this is evidence that the model generates values similar to those observed. But this does not imply that the observed data actually follow the theoretical model. (No one believes that reality follows a perfect mathematical formula. We just need a formula that is a good approximation of reality)\n",
    "\n",
    "But it still has a problem. If we have a good approximation in a category and a bad one in another? So, we need a global idea of how is this approximation, considering all categories. Pearson proposed the following:\n",
    "\n",
    "$$ X² = \\sum_{k}{} \\frac{(N_k - E_k)²}{E_k}$$\n",
    "\n",
    "Even with the model is true, X² never will be exactly equal to 0. What is the natural variation of X² when the theoretical model is true? Let's run a simple experiment to see it:"
   ]
  },
  {
   "cell_type": "code",
   "execution_count": 2,
   "id": "0c06c3c5",
   "metadata": {},
   "outputs": [],
   "source": [
    "n = 576\n",
    "probs = stats.poisson.pmf(np.arange(0,30), 0.9323)"
   ]
  },
  {
   "cell_type": "markdown",
   "id": "25de9472",
   "metadata": {},
   "source": [
    "Suppose the lambda was estimated from the data!"
   ]
  },
  {
   "cell_type": "code",
   "execution_count": 3,
   "id": "5319ff3d",
   "metadata": {},
   "outputs": [
    {
     "data": {
      "text/plain": [
       "array([3.93647280e-01, 3.66997359e-01, 1.71075819e-01, 5.31646620e-02,\n",
       "       1.23913536e-02, 2.31049179e-03, 3.59011916e-04, 4.78152585e-05,\n",
       "       5.57227068e-06, 5.77225329e-07, 5.38147174e-08, 4.56104191e-09,\n",
       "       3.54354948e-10, 2.54127014e-11, 1.69230439e-12, 1.05182359e-13,\n",
       "       6.12884458e-15, 3.36113047e-16, 1.74087885e-17, 8.54221766e-19,\n",
       "       3.98195476e-20, 1.76779830e-21, 7.49144706e-23, 3.03664178e-24,\n",
       "       1.17960881e-25, 4.39899716e-27, 1.57737886e-28, 5.44663080e-30,\n",
       "       1.81353353e-31, 5.83019763e-33])"
      ]
     },
     "execution_count": 3,
     "metadata": {},
     "output_type": "execute_result"
    }
   ],
   "source": [
    "probs"
   ]
  },
  {
   "cell_type": "code",
   "execution_count": 4,
   "id": "858a861c",
   "metadata": {},
   "outputs": [
    {
     "name": "stdout",
     "output_type": "stream",
     "text": [
      "[226.74083307 211.39047867  98.53967163  30.62284529   7.13741967\n",
      "   1.56875168]\n"
     ]
    }
   ],
   "source": [
    "expected_values = np.concatenate((576 * probs[:5], [576 * np.sum(probs[5:])]))  \n",
    "print(expected_values)"
   ]
  },
  {
   "cell_type": "code",
   "execution_count": 5,
   "id": "a6b2e893",
   "metadata": {},
   "outputs": [],
   "source": [
    "chi = np.zeros(1000)\n",
    "\n",
    "for i in range(1000):\n",
    "    \n",
    "    frequencies = np.zeros(6)\n",
    "    sample = stats.poisson.rvs(0.9323, size=576)\n",
    "    \n",
    "    for j in range(5):\n",
    "        frequencies[j] = np.sum(sample == j)\n",
    "    frequencies[5] = np.sum(sample >= 5)\n",
    "    \n",
    "    chi[i] = np.sum((np.power((frequencies-expected_values),2)/expected_values))"
   ]
  },
  {
   "cell_type": "markdown",
   "id": "d36ea101",
   "metadata": {},
   "source": [
    "The following histogram shows the variability we can expect from X² when the model is true"
   ]
  },
  {
   "cell_type": "code",
   "execution_count": 6,
   "id": "655a9660",
   "metadata": {},
   "outputs": [
    {
     "data": {
      "text/plain": [
       "<Figure size 1000x500 with 0 Axes>"
      ]
     },
     "metadata": {},
     "output_type": "display_data"
    },
    {
     "data": {
      "image/png": "[encoded data removed]",
      "text/plain": [
       "<Figure size 1000x500 with 1 Axes>"
      ]
     },
     "metadata": {},
     "output_type": "display_data"
    }
   ],
   "source": [
    "plt.figure(figsize=(10, 5))\n",
    "\n",
    "df = 4\n",
    "x = np.linspace(0, 20, 1000)\n",
    "pdf_chi2 = chi2.pdf(x, df)\n",
    "\n",
    "plt.figure(figsize=(10, 5))\n",
    "plt.hist(chi, density=True, bins=30, alpha=0.5, color='blue', edgecolor=\"black\", label='Dados Observados') \n",
    "plt.plot(x, pdf_chi2, color='red', linestyle='-', label=f'Chi-quadrado (df={df})') \n",
    "plt.title('Distribution of X²', fontsize = 18)\n",
    "plt.xlim(0, 20)\n",
    "plt.xlabel('Values', fontsize = 14)\n",
    "plt.ylabel('Probability Density', fontsize = 14)\n",
    "\n",
    "plt.show()"
   ]
  },
  {
   "cell_type": "markdown",
   "id": "bfceb912",
   "metadata": {},
   "source": [
    "Pearson discovered that the distribution of X² was approximately the same for any model. It is a universal distribution and a metric to measure deviations of the observed data in relation to any theoretical model.\n",
    "\n",
    "To be more rigorous, the distribution of X² is not exactly a chi-square distribution, but it approximates a chi-square distribution when the sample size is large.\n",
    "\n",
    "The chi-square depends on a parameter, called degrees of freedom, as showed in the variable \"df\" above. It is equal the number of categories minus 1 minus p, where p is the number of parameteres we had to estimate. Therefore, 6-1-1=4."
   ]
  },
  {
   "cell_type": "markdown",
   "id": "68825226",
   "metadata": {},
   "source": [
    "The tipical values usually are those located between 0 and 10. So we have to compare the obtained X² to a chi-square with a certain degrees of freedom. To do this, we use the p-value, which is a way of expressing how discrepant the observed X² is. A p-value near zero is a evidence that the model didn't fit well to the data."
   ]
  },
  {
   "cell_type": "markdown",
   "id": "56aa9d71",
   "metadata": {},
   "source": [
    "## Number of sons"
   ]
  },
  {
   "cell_type": "markdown",
   "id": "c31a89c4",
   "metadata": {},
   "source": [
    "In his classic book Statistical Methods for Research Workers, Ronald A. Fisher, the greatest statistical genius who ever lived, analyzes some data concerning the number of male children among families with a total of 8 children. The data was collected by A. Geissler in a region of Germany from 1876 to 1885. Fisher's book has a page on Wikipedia at http://en.wikipedia.org/wiki/Statistical_Methods_for_Research_Workers.\n",
    "\n",
    "It is well known that male births are slightly more numerous than female births. Suppose the probability of a child being male is θ > 0.5. Assume that the 8 successive births in a family of size 8 are independent. Also assume that θ is the same for all families and for the 8 births within a family sequence. Then the number X of boys in a family of size 8 follows a binomial distribution: X ∼ Bin(8, θ).\n",
    "\n",
    "The OBS line in the follwoing table shows the number of families with k male children in a population of 53,680 families each with exactly 8 children. The ESP line shows the expected number of families with k boys out of the 8 children if the binomial model applies.\n",
    "\n",
    "It is impressive that several hundred families had all their 8 children as either boys or all girls. Did these hundreds of families represent an excess compared to what is expected under the binomial model? If families differed not only due to chance associated with the binomial distribution, but also due to a tendency for some parents to produce boys or girls, the data would not fit well with a binomial distribution. Imagine, for a very extreme example, if each family chose a value θ for their probability of having boys. After choosing \"their\" θ, or their \"coin\", each family would toss it 8 times according to the binomial model. Suppose families drew their θ's from an urn where there were only two types of values in equal proportions: θ = 0.01 and θ = 0.99. In this case, we would see in the data an accumulation of families in extreme categories (with 0 or 1 boys, or 8 or 7 boys), with fewer families having an intermediate number of male children.\n",
    "\n",
    "Of course, we do not see anything so extreme in the above data. Fisher writes: \"The observed series differs from expectation markedly in two respects: one is the excess of unequally divided families; the other is the irregularity of the central values, showing an apparent bias in favour of even values. No biological reason is suggested for the latter discrepancy, which therefore detracts from the value of the data. The excess of the extreme types of family may be treated in more detail by comparing the observed with the expected ...\""
   ]
  },
  {
   "cell_type": "code",
   "execution_count": 7,
   "id": "772a674d",
   "metadata": {},
   "outputs": [],
   "source": [
    "OBS = np.array([215, 1485, 5331, 10649, 14959, 11929, 6678, 2092, 342])\n",
    "ESP = np.array([165.22, 1401.69, 5202.65, 11034.65, 14627.60, 12409.87, 6580.24, 1993.78, 264.30])\n",
    "DIF = OBS - ESP"
   ]
  },
  {
   "cell_type": "code",
   "execution_count": 8,
   "id": "7e18500d",
   "metadata": {},
   "outputs": [
    {
     "data": {
      "text/html": [
       "<div>\n",
       "<style scoped>\n",
       "    .dataframe tbody tr th:only-of-type {\n",
       "        vertical-align: middle;\n",
       "    }\n",
       "\n",
       "    .dataframe tbody tr th {\n",
       "        vertical-align: top;\n",
       "    }\n",
       "\n",
       "    .dataframe thead th {\n",
       "        text-align: right;\n",
       "    }\n",
       "</style>\n",
       "<table border=\"1\" class=\"dataframe\">\n",
       "  <thead>\n",
       "    <tr style=\"text-align: right;\">\n",
       "      <th></th>\n",
       "      <th>k</th>\n",
       "      <th>OBS</th>\n",
       "      <th>ESP</th>\n",
       "      <th>DIF</th>\n",
       "    </tr>\n",
       "  </thead>\n",
       "  <tbody>\n",
       "    <tr>\n",
       "      <th>0</th>\n",
       "      <td>0</td>\n",
       "      <td>215</td>\n",
       "      <td>165.22</td>\n",
       "      <td>49.78</td>\n",
       "    </tr>\n",
       "    <tr>\n",
       "      <th>1</th>\n",
       "      <td>1</td>\n",
       "      <td>1485</td>\n",
       "      <td>1401.69</td>\n",
       "      <td>83.31</td>\n",
       "    </tr>\n",
       "    <tr>\n",
       "      <th>2</th>\n",
       "      <td>2</td>\n",
       "      <td>5331</td>\n",
       "      <td>5202.65</td>\n",
       "      <td>128.35</td>\n",
       "    </tr>\n",
       "    <tr>\n",
       "      <th>3</th>\n",
       "      <td>3</td>\n",
       "      <td>10649</td>\n",
       "      <td>11034.65</td>\n",
       "      <td>-385.65</td>\n",
       "    </tr>\n",
       "    <tr>\n",
       "      <th>4</th>\n",
       "      <td>4</td>\n",
       "      <td>14959</td>\n",
       "      <td>14627.60</td>\n",
       "      <td>331.40</td>\n",
       "    </tr>\n",
       "    <tr>\n",
       "      <th>5</th>\n",
       "      <td>5</td>\n",
       "      <td>11929</td>\n",
       "      <td>12409.87</td>\n",
       "      <td>-480.87</td>\n",
       "    </tr>\n",
       "    <tr>\n",
       "      <th>6</th>\n",
       "      <td>6</td>\n",
       "      <td>6678</td>\n",
       "      <td>6580.24</td>\n",
       "      <td>97.76</td>\n",
       "    </tr>\n",
       "    <tr>\n",
       "      <th>7</th>\n",
       "      <td>7</td>\n",
       "      <td>2092</td>\n",
       "      <td>1993.78</td>\n",
       "      <td>98.22</td>\n",
       "    </tr>\n",
       "    <tr>\n",
       "      <th>8</th>\n",
       "      <td>8</td>\n",
       "      <td>342</td>\n",
       "      <td>264.30</td>\n",
       "      <td>77.70</td>\n",
       "    </tr>\n",
       "  </tbody>\n",
       "</table>\n",
       "</div>"
      ],
      "text/plain": [
       "   k    OBS       ESP     DIF\n",
       "0  0    215    165.22   49.78\n",
       "1  1   1485   1401.69   83.31\n",
       "2  2   5331   5202.65  128.35\n",
       "3  3  10649  11034.65 -385.65\n",
       "4  4  14959  14627.60  331.40\n",
       "5  5  11929  12409.87 -480.87\n",
       "6  6   6678   6580.24   97.76\n",
       "7  7   2092   1993.78   98.22\n",
       "8  8    342    264.30   77.70"
      ]
     },
     "execution_count": 8,
     "metadata": {},
     "output_type": "execute_result"
    }
   ],
   "source": [
    "data = {'k': [0, 1, 2, 3, 4, 5, 6, 7, 8],\n",
    "        'OBS': OBS,\n",
    "        'ESP': ESP,\n",
    "        'DIF': DIF}\n",
    "\n",
    "df = pd.DataFrame(data)\n",
    "df"
   ]
  },
  {
   "cell_type": "markdown",
   "id": "a6af0c0c",
   "metadata": {},
   "source": [
    "Firstly, in order to verify our compreenshion of the problem, let's obtain the expected values of the table. Before doing this, we have to estimate the probability of man's birth from the data:"
   ]
  },
  {
   "cell_type": "code",
   "execution_count": 9,
   "id": "db371fe0",
   "metadata": {},
   "outputs": [
    {
     "data": {
      "text/plain": [
       "53680"
      ]
     },
     "execution_count": 9,
     "metadata": {},
     "output_type": "execute_result"
    }
   ],
   "source": [
    "total = np.sum(OBS)\n",
    "total"
   ]
  },
  {
   "cell_type": "code",
   "execution_count": 10,
   "id": "ba149f13",
   "metadata": {},
   "outputs": [
    {
     "name": "stdout",
     "output_type": "stream",
     "text": [
      "Probability =  0.5146772540983606\n"
     ]
    }
   ],
   "source": [
    "prob = 0\n",
    "for i in range(len(OBS)):\n",
    "    \n",
    "    prob+= i*OBS[i]/8\n",
    "prob = prob/total\n",
    "\n",
    "print('Probability = ', prob)"
   ]
  },
  {
   "cell_type": "code",
   "execution_count": 11,
   "id": "c7af9e57",
   "metadata": {},
   "outputs": [],
   "source": [
    "def expected_values(n, p):\n",
    "    expected = np.zeros(9)\n",
    "    \n",
    "    for k in range(n+1):\n",
    "        expected[k] = round((comb(n, k) * (p ** k) * ((1 - p) ** (n-k)))*53680, 2)\n",
    "    \n",
    "    return expected"
   ]
  },
  {
   "cell_type": "code",
   "execution_count": 12,
   "id": "6bab07b6",
   "metadata": {},
   "outputs": [
    {
     "data": {
      "text/plain": [
       "array([  165.22,  1401.69,  5202.65, 11034.65, 14627.6 , 12409.87,\n",
       "        6580.24,  1993.78,   264.3 ])"
      ]
     },
     "execution_count": 12,
     "metadata": {},
     "output_type": "execute_result"
    }
   ],
   "source": [
    "expected_values(8, prob)"
   ]
  },
  {
   "cell_type": "markdown",
   "id": "fd72e282",
   "metadata": {},
   "source": [
    "Now, let's calcultate the chi-square statistic:"
   ]
  },
  {
   "cell_type": "code",
   "execution_count": 13,
   "id": "7b20ef4c",
   "metadata": {},
   "outputs": [
    {
     "name": "stdout",
     "output_type": "stream",
     "text": [
      "X² = 91.87\n"
     ]
    }
   ],
   "source": [
    "x2 = np.sum((OBS - ESP)**2 / ESP)\n",
    "\n",
    "print(f\"X² = {x2:.2f}\")"
   ]
  },
  {
   "cell_type": "markdown",
   "id": "601f4c4d",
   "metadata": {},
   "source": [
    "The reference distribution for the chi-square statistic in this problem is the chi-square distribution with 7 degrees of freedom, which corresponds to the number of categories minus 1 minus the number of estimated parameters (9 - 1 - 1 = 7). The associated p-value is:"
   ]
  },
  {
   "cell_type": "code",
   "execution_count": 14,
   "id": "c2d251bf",
   "metadata": {},
   "outputs": [
    {
     "name": "stdout",
     "output_type": "stream",
     "text": [
      "p-value: 0.0\n"
     ]
    }
   ],
   "source": [
    "p_value = 1 - chi2.cdf(x2, 7)\n",
    "print(\"p-value:\", p_value)"
   ]
  },
  {
   "cell_type": "markdown",
   "id": "1bc7c38b",
   "metadata": {},
   "source": [
    "This is evidence that the data does not follow a binomial distribution with the estimated parameter"
   ]
  },
  {
   "cell_type": "markdown",
   "id": "88ed321d",
   "metadata": {},
   "source": [
    "## Counting fungi"
   ]
  },
  {
   "cell_type": "markdown",
   "id": "42d1ab34",
   "metadata": {},
   "source": [
    "Again, in the same book, Ronald A. Fisher presents some data on counts of beer yeast (fungi) obtained through human observation using a microscope (hemocytometer). An area of 1 square millimeter was divided into 400 equally sized squares, and the number of fungi in each square was counted. The following table shows how many squares had k fungi. It also shows the expected numbers according to a Poisson model."
   ]
  },
  {
   "cell_type": "code",
   "execution_count": 15,
   "id": "010262ae",
   "metadata": {},
   "outputs": [],
   "source": [
    "OBS =  [0, 20, 43, 53, 86, 70, 54, 37, 18, 10, 5, 2, 2, 0, 0, 0, 0]\n",
    "ESP = [3.71, 17.37, 40.65, 63.41, 74.19, 69.44, 54.16, 36.21, 21.18, 11.02, 5.16, 2.19, 0.86, 0.31, 0.10, 0.03, 0.03]"
   ]
  },
  {
   "cell_type": "code",
   "execution_count": 16,
   "id": "fc97a326",
   "metadata": {},
   "outputs": [
    {
     "data": {
      "text/html": [
       "<div>\n",
       "<style scoped>\n",
       "    .dataframe tbody tr th:only-of-type {\n",
       "        vertical-align: middle;\n",
       "    }\n",
       "\n",
       "    .dataframe tbody tr th {\n",
       "        vertical-align: top;\n",
       "    }\n",
       "\n",
       "    .dataframe thead th {\n",
       "        text-align: right;\n",
       "    }\n",
       "</style>\n",
       "<table border=\"1\" class=\"dataframe\">\n",
       "  <thead>\n",
       "    <tr style=\"text-align: right;\">\n",
       "      <th></th>\n",
       "      <th>OBS</th>\n",
       "      <th>ESP</th>\n",
       "    </tr>\n",
       "    <tr>\n",
       "      <th>k</th>\n",
       "      <th></th>\n",
       "      <th></th>\n",
       "    </tr>\n",
       "  </thead>\n",
       "  <tbody>\n",
       "    <tr>\n",
       "      <th>0</th>\n",
       "      <td>0</td>\n",
       "      <td>3.71</td>\n",
       "    </tr>\n",
       "    <tr>\n",
       "      <th>1</th>\n",
       "      <td>20</td>\n",
       "      <td>17.37</td>\n",
       "    </tr>\n",
       "    <tr>\n",
       "      <th>2</th>\n",
       "      <td>43</td>\n",
       "      <td>40.65</td>\n",
       "    </tr>\n",
       "    <tr>\n",
       "      <th>3</th>\n",
       "      <td>53</td>\n",
       "      <td>63.41</td>\n",
       "    </tr>\n",
       "    <tr>\n",
       "      <th>4</th>\n",
       "      <td>86</td>\n",
       "      <td>74.19</td>\n",
       "    </tr>\n",
       "    <tr>\n",
       "      <th>5</th>\n",
       "      <td>70</td>\n",
       "      <td>69.44</td>\n",
       "    </tr>\n",
       "    <tr>\n",
       "      <th>6</th>\n",
       "      <td>54</td>\n",
       "      <td>54.16</td>\n",
       "    </tr>\n",
       "    <tr>\n",
       "      <th>7</th>\n",
       "      <td>37</td>\n",
       "      <td>36.21</td>\n",
       "    </tr>\n",
       "    <tr>\n",
       "      <th>8</th>\n",
       "      <td>18</td>\n",
       "      <td>21.18</td>\n",
       "    </tr>\n",
       "    <tr>\n",
       "      <th>9</th>\n",
       "      <td>10</td>\n",
       "      <td>11.02</td>\n",
       "    </tr>\n",
       "    <tr>\n",
       "      <th>10</th>\n",
       "      <td>5</td>\n",
       "      <td>5.16</td>\n",
       "    </tr>\n",
       "    <tr>\n",
       "      <th>11</th>\n",
       "      <td>2</td>\n",
       "      <td>2.19</td>\n",
       "    </tr>\n",
       "    <tr>\n",
       "      <th>12</th>\n",
       "      <td>2</td>\n",
       "      <td>0.86</td>\n",
       "    </tr>\n",
       "    <tr>\n",
       "      <th>13</th>\n",
       "      <td>0</td>\n",
       "      <td>0.31</td>\n",
       "    </tr>\n",
       "    <tr>\n",
       "      <th>14</th>\n",
       "      <td>0</td>\n",
       "      <td>0.10</td>\n",
       "    </tr>\n",
       "    <tr>\n",
       "      <th>15</th>\n",
       "      <td>0</td>\n",
       "      <td>0.03</td>\n",
       "    </tr>\n",
       "    <tr>\n",
       "      <th>16</th>\n",
       "      <td>0</td>\n",
       "      <td>0.03</td>\n",
       "    </tr>\n",
       "    <tr>\n",
       "      <th>Total</th>\n",
       "      <td>400</td>\n",
       "      <td>400.00</td>\n",
       "    </tr>\n",
       "  </tbody>\n",
       "</table>\n",
       "</div>"
      ],
      "text/plain": [
       "       OBS     ESP\n",
       "k                 \n",
       "0        0    3.71\n",
       "1       20   17.37\n",
       "2       43   40.65\n",
       "3       53   63.41\n",
       "4       86   74.19\n",
       "5       70   69.44\n",
       "6       54   54.16\n",
       "7       37   36.21\n",
       "8       18   21.18\n",
       "9       10   11.02\n",
       "10       5    5.16\n",
       "11       2    2.19\n",
       "12       2    0.86\n",
       "13       0    0.31\n",
       "14       0    0.10\n",
       "15       0    0.03\n",
       "16       0    0.03\n",
       "Total  400  400.00"
      ]
     },
     "execution_count": 16,
     "metadata": {},
     "output_type": "execute_result"
    }
   ],
   "source": [
    "data = {'k': list(range(0, 17)) + ['Total'],\n",
    "        'OBS': OBS + [400],\n",
    "        'ESP': ESP + [400]}\n",
    "\n",
    "df = pd.DataFrame(data)\n",
    "df.set_index('k', inplace=True)\n",
    "df"
   ]
  },
  {
   "cell_type": "markdown",
   "id": "58c8d4da",
   "metadata": {},
   "source": [
    "Let's estimate the mean from the data:"
   ]
  },
  {
   "cell_type": "code",
   "execution_count": 17,
   "id": "6de12df5",
   "metadata": {},
   "outputs": [
    {
     "name": "stdout",
     "output_type": "stream",
     "text": [
      "4.68\n"
     ]
    }
   ],
   "source": [
    "mean = sum([OBS[i]*i for i in range(len(OBS))])/sum(OBS)\n",
    "print(mean)"
   ]
  },
  {
   "cell_type": "markdown",
   "id": "522b8557",
   "metadata": {},
   "source": [
    "To practice a little more, let's generate the expected poisson with this estimated parameter. (I think there is a typo in the last row of the column)"
   ]
  },
  {
   "cell_type": "code",
   "execution_count": 18,
   "id": "bd1d8b3f",
   "metadata": {},
   "outputs": [
    {
     "name": "stdout",
     "output_type": "stream",
     "text": [
      "[3.7116055548258977, 17.3703139965852, 40.64653475200936, 63.40859421313459, 74.18805522936746, 69.44001969468796, 54.16321536185659, 36.2119782704984, 21.184007288241553, 11.01568378988562, 5.155340013666463, 2.193362842178095, 0.8554115084494589, 0.3079481430418053, 0.10294266495968882, 0.03211811146742289, 0.009394547604221192]\n"
     ]
    }
   ],
   "source": [
    "expected_poisson = [poisson.pmf(i, mean)*sum(OBS) for i in range(len(OBS))]\n",
    "print(expected_poisson)"
   ]
  },
  {
   "cell_type": "markdown",
   "id": "7fd76fbd",
   "metadata": {},
   "source": [
    "Did the data come from a Poisson(4.68)?"
   ]
  },
  {
   "cell_type": "code",
   "execution_count": 19,
   "id": "830282dd",
   "metadata": {},
   "outputs": [
    {
     "name": "stdout",
     "output_type": "stream",
     "text": [
      "X² = 10.44\n"
     ]
    }
   ],
   "source": [
    "x2 = np.sum((np.array(OBS) - np.array(expected_poisson))**2 / np.array(expected_poisson))\n",
    "\n",
    "print(f\"X² = {x2:.2f}\")"
   ]
  },
  {
   "cell_type": "code",
   "execution_count": 20,
   "id": "178aa06c",
   "metadata": {},
   "outputs": [
    {
     "data": {
      "text/plain": [
       "0.7915062709073595"
      ]
     },
     "execution_count": 20,
     "metadata": {},
     "output_type": "execute_result"
    }
   ],
   "source": [
    "p_value = 1 - chi2.cdf(x2, 17-1-1)\n",
    "p_value"
   ]
  },
  {
   "cell_type": "code",
   "execution_count": 21,
   "id": "fb4cd771",
   "metadata": {},
   "outputs": [
    {
     "name": "stdout",
     "output_type": "stream",
     "text": [
      "Go ahead\n"
     ]
    }
   ],
   "source": [
    "alpha = 0.05\n",
    "\n",
    "if p_value < alpha:\n",
    "    print(\"Reject the hypothesis\")\n",
    "else:\n",
    "    print(\"Go ahead\")"
   ]
  },
  {
   "cell_type": "markdown",
   "id": "9bbbd0a6",
   "metadata": {},
   "source": [
    "## Bombers in London"
   ]
  },
  {
   "cell_type": "markdown",
   "id": "aec54f6d",
   "metadata": {},
   "source": [
    "During the Second World War, the locations hit by bombs south of London were mapped. The area was divided into $ n = 576$ small squares, each with an area of $0.25$ km². The total number of bombs that hit the region was 537. Let $X_i$ represent the number of bombs in square $i$."
   ]
  },
  {
   "cell_type": "code",
   "execution_count": 22,
   "id": "59423fd2",
   "metadata": {},
   "outputs": [],
   "source": [
    "n = 576\n",
    "total = 537"
   ]
  },
  {
   "cell_type": "markdown",
   "id": "a7f16250",
   "metadata": {},
   "source": [
    "The following array gives the amount of squares with i bombs, where i is the index."
   ]
  },
  {
   "cell_type": "code",
   "execution_count": 23,
   "id": "633bc8f6",
   "metadata": {},
   "outputs": [],
   "source": [
    "OBS = np.array([229, 211, 93, 35, 7, 1])"
   ]
  },
  {
   "cell_type": "markdown",
   "id": "cb310422",
   "metadata": {},
   "source": [
    "Let's assume that the bomb count plus 1 follow the logarithmic distribution with parameter θ ∈ (0, 1):\n",
    "\n",
    "- $P(Y = k) = \\frac{-1}{log(1 - \\theta)} \\cdot \\frac{\\theta^k}{k}   for k = 1, 2, ...$\n",
    "- $E(Y) = \\frac{-1}{log(1 - \\theta)} \\cdot \\frac{\\theta}{1 - \\theta}$"
   ]
  },
  {
   "cell_type": "code",
   "execution_count": 24,
   "id": "800ece8c",
   "metadata": {},
   "outputs": [
    {
     "name": "stdout",
     "output_type": "stream",
     "text": [
      "1.9322916666666665\n"
     ]
    }
   ],
   "source": [
    "x_mean = total / n\n",
    "y_mean = x_mean + 1\n",
    "print(y_mean)"
   ]
  },
  {
   "cell_type": "markdown",
   "id": "6a874607",
   "metadata": {},
   "source": [
    "Let's solve E(Y) = 1.93229"
   ]
  },
  {
   "cell_type": "code",
   "execution_count": 25,
   "id": "522a0fe8",
   "metadata": {},
   "outputs": [],
   "source": [
    "from scipy.optimize import fsolve\n",
    "\n",
    "def f(theta):\n",
    "   \n",
    "    if 1 - theta <= 0:\n",
    "        return np.inf\n",
    "    else:\n",
    "        return -1 / np.log(1 - theta) * theta / (1 - theta) - 1.93229"
   ]
  },
  {
   "cell_type": "code",
   "execution_count": 26,
   "id": "30be396c",
   "metadata": {},
   "outputs": [
    {
     "name": "stdout",
     "output_type": "stream",
     "text": [
      "Approximate solution: 0.6985081984130737\n"
     ]
    }
   ],
   "source": [
    "theta_initial_guess = 0.5 \n",
    "theta = fsolve(f, theta_initial_guess)[0]\n",
    "\n",
    "if 0 < theta < 1:\n",
    "    print(\"Approximate solution:\", theta)\n",
    "else:\n",
    "    print(\"No valid solution found.\")"
   ]
  },
  {
   "cell_type": "markdown",
   "id": "4bab54a4",
   "metadata": {},
   "source": [
    "Now, we have to calculate the expected values"
   ]
  },
  {
   "cell_type": "code",
   "execution_count": 27,
   "id": "85ecc7d0",
   "metadata": {},
   "outputs": [],
   "source": [
    "def log_prob(theta, k):\n",
    "     return -1/(np.log(1-theta)) * ((theta**(k+1)/(k+1)))"
   ]
  },
  {
   "cell_type": "code",
   "execution_count": 28,
   "id": "dd0a02cd",
   "metadata": {},
   "outputs": [
    {
     "name": "stdout",
     "output_type": "stream",
     "text": [
      "[335.56008573 117.19573547  54.57478803  28.59070265  15.97667216\n",
      "  24.10201595]\n"
     ]
    }
   ],
   "source": [
    "results = [log_prob(theta, k) for k in range(5)]\n",
    "\n",
    "remaining_prob = 1 - np.sum(results)\n",
    "results.append(remaining_prob) \n",
    "\n",
    "EXP = np.array(results) * 576\n",
    "print(EXP)"
   ]
  },
  {
   "cell_type": "markdown",
   "id": "ef2dd8c7",
   "metadata": {},
   "source": [
    "Finally, the chi-square test:"
   ]
  },
  {
   "cell_type": "code",
   "execution_count": 29,
   "id": "a8d04dde",
   "metadata": {},
   "outputs": [
    {
     "name": "stdout",
     "output_type": "stream",
     "text": [
      "X² = 164.60\n"
     ]
    }
   ],
   "source": [
    "x2 = np.sum((OBS - EXP)**2 / EXP)\n",
    "\n",
    "print(f\"X² = {x2:.2f}\")"
   ]
  },
  {
   "cell_type": "code",
   "execution_count": 30,
   "id": "688277d4",
   "metadata": {},
   "outputs": [
    {
     "name": "stdout",
     "output_type": "stream",
     "text": [
      "p-value: 0.0\n"
     ]
    }
   ],
   "source": [
    "p_value = 1 - chi2.cdf(x2, 6 - 1 - 1)\n",
    "print(\"p-value:\", p_value)"
   ]
  },
  {
   "cell_type": "code",
   "execution_count": 31,
   "id": "ccd27fa4",
   "metadata": {},
   "outputs": [
    {
     "name": "stdout",
     "output_type": "stream",
     "text": [
      "Reject the hypothesis\n"
     ]
    }
   ],
   "source": [
    "alpha = 0.05\n",
    "\n",
    "if p_value < alpha:\n",
    "    print(\"Reject the hypothesis\")\n",
    "else:\n",
    "    print(\"Go ahead\")"
   ]
  },
  {
   "cell_type": "markdown",
   "id": "e90d0d9c",
   "metadata": {},
   "source": [
    "## Are the digits of π randomly uniform?"
   ]
  },
  {
   "cell_type": "markdown",
   "id": "1a780c03",
   "metadata": {},
   "source": [
    "The first 608 digits of  the decimal expasion of $\\pi$ have the follwoing frequencies:"
   ]
  },
  {
   "cell_type": "code",
   "execution_count": 32,
   "id": "0e7bc1d1",
   "metadata": {},
   "outputs": [
    {
     "name": "stdout",
     "output_type": "stream",
     "text": [
      "60.8\n"
     ]
    }
   ],
   "source": [
    "observed_frequencies = np.array([60, 62, 67, 68, 64, 56, 62, 44, 58, 67])\n",
    "mean = np.mean(observed_frequencies)\n",
    "print(mean)"
   ]
  },
  {
   "cell_type": "markdown",
   "id": "f112686f",
   "metadata": {},
   "source": [
    "These data are compatible with the assumption that each digit is chosen completely random? That is, according to a discrete uniform distribution over the possible digits?"
   ]
  },
  {
   "cell_type": "code",
   "execution_count": 33,
   "id": "da76ce5a",
   "metadata": {},
   "outputs": [
    {
     "data": {
      "text/plain": [
       "array([60.8, 60.8, 60.8, 60.8, 60.8, 60.8, 60.8, 60.8, 60.8, 60.8])"
      ]
     },
     "execution_count": 33,
     "metadata": {},
     "output_type": "execute_result"
    }
   ],
   "source": [
    "expected_frequencies = np.full(10, mean)\n",
    "expected_frequencies"
   ]
  },
  {
   "cell_type": "code",
   "execution_count": 34,
   "id": "a093aa51",
   "metadata": {},
   "outputs": [
    {
     "name": "stdout",
     "output_type": "stream",
     "text": [
      "χ² = 7.493421052631579\n",
      "p-value = 0.5858880273157883\n"
     ]
    }
   ],
   "source": [
    "chi_2, p = chisquare(observed_frequencies, f_exp= expected_frequencies)\n",
    "\n",
    "print(\"χ² =\", chi_2)\n",
    "print(\"p-value =\", p)"
   ]
  },
  {
   "cell_type": "code",
   "execution_count": 35,
   "id": "43c910f7",
   "metadata": {},
   "outputs": [
    {
     "name": "stdout",
     "output_type": "stream",
     "text": [
      "Critical value: 16.918977604620448\n"
     ]
    }
   ],
   "source": [
    "alpha = 0.05\n",
    "critical_value = chi2.ppf(1 - alpha, 9)\n",
    "\n",
    "print(\"Critical value:\", critical_value)"
   ]
  },
  {
   "cell_type": "markdown",
   "id": "aa9f2714",
   "metadata": {},
   "source": [
    "The value of χ² is less than the critical value of the chi-square distribution with 9 degrees of freedom for a significance level of 0.05, which is 16.919. Furthermore, the p-value is greater than 0.05. Therefore, we do not reject the null hypothesis that the distribution of the digits of π is uniform. We conclude that the data are compatible with the assumption that each digit is chosen completely at random."
   ]
  },
  {
   "cell_type": "markdown",
   "id": "3486f9cc",
   "metadata": {},
   "source": [
    "## Testing web pages"
   ]
  },
  {
   "cell_type": "markdown",
   "id": "9fc3a2db",
   "metadata": {},
   "source": [
    "The following code is a crawler that starts from the URL https://en.wikipedia.org/wiki/Ronald_Fisher, exploring links in a breadth-first manner. For each link, it stores the number of links present on the page and the size of the page's text. (I didn't run this code again recently, I just used the results.csv I got a long time ago!! So the code may crash)"
   ]
  },
  {
   "cell_type": "code",
   "execution_count": 36,
   "id": "5a51c3bb",
   "metadata": {},
   "outputs": [],
   "source": [
    "import urllib3\n",
    "from time import sleep\n",
    "\n",
    "import requests\n",
    "from bs4 import BeautifulSoup\n",
    "from collections import deque\n",
    "import os"
   ]
  },
  {
   "cell_type": "code",
   "execution_count": 37,
   "id": "114d950d",
   "metadata": {},
   "outputs": [],
   "source": [
    "def crawler(base_url, max_links = 100):\n",
    "\n",
    "    dados_paginas = []\n",
    "    links_visited = 0\n",
    "    links_to_visit = deque([base_url])\n",
    "    \n",
    "    while links_to_visit and links_visited < max_links:\n",
    "        \n",
    "        url = links_to_visit.popleft()\n",
    "\n",
    "        try:\n",
    "            \n",
    "            response = requests.get(url)\n",
    "            \n",
    "            if response.status_code == 200:\n",
    "                soup = BeautifulSoup(response.text, \"html.parser\")\n",
    "\n",
    "                # Count the numbers of link in the page\n",
    "                num_links = len(soup.find_all(\"a\"))\n",
    "\n",
    "                # Save the content in a text file\n",
    "                text = response.text\n",
    "\n",
    "                dados_paginas.append({\"URL\": url, \"num_links\": num_links, \"Tamanho_arquivo\": len(text)})\n",
    "\n",
    "                for link in soup.find_all(\"a\"):\n",
    "                    if link.has_attr(\"href\"):\n",
    "                        new_url = link[\"href\"]\n",
    "                        if new_url.startswith(\"http\"):\n",
    "                            links_to_visit.append(new_url)\n",
    "                        else:\n",
    "                            links_to_visit.append(f\"{base_url}/{new_url}\")\n",
    "\n",
    "                links_visited += 1\n",
    "\n",
    "        except:\n",
    "            pass\n",
    "\n",
    "    return dados_paginas"
   ]
  },
  {
   "cell_type": "code",
   "execution_count": null,
   "id": "eb169416",
   "metadata": {},
   "outputs": [],
   "source": [
    "data = crawler( \"https://en.wikipedia.org/wiki/Ronald_Fisher\")"
   ]
  },
  {
   "cell_type": "code",
   "execution_count": null,
   "id": "64b126ba",
   "metadata": {},
   "outputs": [],
   "source": [
    "df = pd.DataFrame(data)\n",
    "df.to_csv('results.csv', index=False)"
   ]
  },
  {
   "cell_type": "code",
   "execution_count": null,
   "id": "a8a58e48",
   "metadata": {},
   "outputs": [],
   "source": [
    "pd.options.display.max_rows = None\n",
    "df"
   ]
  },
  {
   "cell_type": "markdown",
   "id": "d24fa97e",
   "metadata": {},
   "source": [
    "### Is the num_links a Poisson?"
   ]
  },
  {
   "cell_type": "code",
   "execution_count": 3,
   "id": "5acb3464",
   "metadata": {
    "scrolled": true
   },
   "outputs": [
    {
     "data": {
      "text/html": [
       "<div>\n",
       "<style scoped>\n",
       "    .dataframe tbody tr th:only-of-type {\n",
       "        vertical-align: middle;\n",
       "    }\n",
       "\n",
       "    .dataframe tbody tr th {\n",
       "        vertical-align: top;\n",
       "    }\n",
       "\n",
       "    .dataframe thead th {\n",
       "        text-align: right;\n",
       "    }\n",
       "</style>\n",
       "<table border=\"1\" class=\"dataframe\">\n",
       "  <thead>\n",
       "    <tr style=\"text-align: right;\">\n",
       "      <th></th>\n",
       "      <th>URL</th>\n",
       "      <th>num_links</th>\n",
       "      <th>Tamanho_arquivo</th>\n",
       "    </tr>\n",
       "  </thead>\n",
       "  <tbody>\n",
       "    <tr>\n",
       "      <th>0</th>\n",
       "      <td>https://en.wikipedia.org/wiki/Ronald_Fisher</td>\n",
       "      <td>2057</td>\n",
       "      <td>436085</td>\n",
       "    </tr>\n",
       "    <tr>\n",
       "      <th>1</th>\n",
       "      <td>https://donate.wikimedia.org/wiki/Special:Fund...</td>\n",
       "      <td>33</td>\n",
       "      <td>58609</td>\n",
       "    </tr>\n",
       "    <tr>\n",
       "      <th>2</th>\n",
       "      <td>https://ar.wikipedia.org/wiki/%D8%B1%D9%88%D9%...</td>\n",
       "      <td>668</td>\n",
       "      <td>231236</td>\n",
       "    </tr>\n",
       "    <tr>\n",
       "      <th>3</th>\n",
       "      <td>https://ast.wikipedia.org/wiki/Ronald_Fisher</td>\n",
       "      <td>567</td>\n",
       "      <td>163401</td>\n",
       "    </tr>\n",
       "    <tr>\n",
       "      <th>4</th>\n",
       "      <td>https://azb.wikipedia.org/wiki/%D8%B1%D8%A7%D9...</td>\n",
       "      <td>144</td>\n",
       "      <td>64673</td>\n",
       "    </tr>\n",
       "  </tbody>\n",
       "</table>\n",
       "</div>"
      ],
      "text/plain": [
       "                                                 URL  num_links  \\\n",
       "0        https://en.wikipedia.org/wiki/Ronald_Fisher       2057   \n",
       "1  https://donate.wikimedia.org/wiki/Special:Fund...         33   \n",
       "2  https://ar.wikipedia.org/wiki/%D8%B1%D9%88%D9%...        668   \n",
       "3       https://ast.wikipedia.org/wiki/Ronald_Fisher        567   \n",
       "4  https://azb.wikipedia.org/wiki/%D8%B1%D8%A7%D9...        144   \n",
       "\n",
       "   Tamanho_arquivo  \n",
       "0           436085  \n",
       "1            58609  \n",
       "2           231236  \n",
       "3           163401  \n",
       "4            64673  "
      ]
     },
     "execution_count": 3,
     "metadata": {},
     "output_type": "execute_result"
    }
   ],
   "source": [
    "data = pd.read_csv(\"results.csv\")\n",
    "data.head()"
   ]
  },
  {
   "cell_type": "code",
   "execution_count": 4,
   "id": "4b0dab66",
   "metadata": {
    "scrolled": true
   },
   "outputs": [
    {
     "name": "stdout",
     "output_type": "stream",
     "text": [
      "[2057   33  668  567  144  138  130 1357  256  403  273  287  308  308\n",
      "  123  558  384  554  957  220  481  308  505  151  393  348  188  127\n",
      "  198  289  138  132  305  255  600  341  213  299  607  706  328  533\n",
      "  247  555  795  129  195  347  154  434  806  295  144 1356  694   58\n",
      "   58 2067   50  694  113  115   58   58   50   44  129   67   97  194\n",
      "   93    0   83   97   46  485   93   57  154   78   13  155   30   81\n",
      "  154   31   74  173  113  173  173    2   54  176  176   33   51    6\n",
      "   30   30   30    0   31   71   36  226]\n"
     ]
    }
   ],
   "source": [
    "num_links = data[\"num_links\"].values\n",
    "print(num_links)"
   ]
  },
  {
   "cell_type": "code",
   "execution_count": 5,
   "id": "5384545f",
   "metadata": {},
   "outputs": [
    {
     "data": {
      "image/png": "[encoded data removed]",
      "text/plain": [
       "<Figure size 640x480 with 1 Axes>"
      ]
     },
     "metadata": {},
     "output_type": "display_data"
    }
   ],
   "source": [
    "plt.hist(num_links, bins=20, color='blue', alpha=0.7, edgecolor='black')  \n",
    "plt.title('Distribution of Number of Links on Wikipedia Pages')\n",
    "plt.xlabel('Number of Links (Number of tag \"a\" in the HTML)')\n",
    "plt.ylabel('Frequency')\n",
    "plt.grid(axis='y', alpha=0.5)  \n",
    "plt.show()"
   ]
  },
  {
   "cell_type": "markdown",
   "id": "1a077ac3",
   "metadata": {},
   "source": [
    "Let's divide the observed links in five categories:"
   ]
  },
  {
   "cell_type": "code",
   "execution_count": 6,
   "id": "0b99afce",
   "metadata": {},
   "outputs": [],
   "source": [
    "categories = [0,250,500,750,1000,1500]"
   ]
  },
  {
   "cell_type": "code",
   "execution_count": 14,
   "id": "a71d6cc3",
   "metadata": {},
   "outputs": [],
   "source": [
    "OBS = []\n",
    "\n",
    "for i in range(len(categories) - 1):\n",
    "    lower_bound = categories[i]\n",
    "    upper_bound = categories[i + 1]\n",
    "\n",
    "    filtered_links = [link for link in num_links if lower_bound <= link < upper_bound]\n",
    "\n",
    "    OBS.append(len(filtered_links))\n",
    "    \n",
    "OBS.append(len([link for link in num_links if link >= categories[-1]]))"
   ]
  },
  {
   "cell_type": "code",
   "execution_count": 15,
   "id": "9d856def",
   "metadata": {},
   "outputs": [
    {
     "data": {
      "text/plain": [
       "[66, 21, 12, 3, 2, 2]"
      ]
     },
     "execution_count": 15,
     "metadata": {},
     "output_type": "execute_result"
    }
   ],
   "source": [
    "OBS"
   ]
  },
  {
   "cell_type": "markdown",
   "id": "eefa9cce",
   "metadata": {},
   "source": [
    "Now, let's generate the expected values"
   ]
  },
  {
   "cell_type": "code",
   "execution_count": 16,
   "id": "87ac865b",
   "metadata": {},
   "outputs": [
    {
     "name": "stdout",
     "output_type": "stream",
     "text": [
      "Mean:  287.5566037735849\n"
     ]
    }
   ],
   "source": [
    "mean = num_links.mean()\n",
    "print(\"Mean: \", mean)"
   ]
  },
  {
   "cell_type": "code",
   "execution_count": 17,
   "id": "093484b4",
   "metadata": {},
   "outputs": [
    {
     "data": {
      "text/plain": [
       "array([1.30543047e-125, 3.75385153e-123, 5.39722399e-121, ...,\n",
       "       0.00000000e+000, 0.00000000e+000, 0.00000000e+000])"
      ]
     },
     "execution_count": 17,
     "metadata": {},
     "output_type": "execute_result"
    }
   ],
   "source": [
    "expected_poisson = poisson.pmf(np.arange(0,2000), mean)\n",
    "expected_poisson"
   ]
  },
  {
   "cell_type": "code",
   "execution_count": 18,
   "id": "5b53de98",
   "metadata": {},
   "outputs": [],
   "source": [
    "number_of_webpages = 105"
   ]
  },
  {
   "cell_type": "code",
   "execution_count": 23,
   "id": "9ba3f760",
   "metadata": {},
   "outputs": [],
   "source": [
    "EXP = []\n",
    "\n",
    "for i in range(len(categories) - 1):\n",
    "    lower_bound = categories[i]\n",
    "    upper_bound = categories[i + 1]\n",
    "\n",
    "    EXP.append(np.sum(expected_poisson[lower_bound:upper_bound])*number_of_webpages)\n",
    "    \n",
    "EXP.append(np.sum(expected_poisson[ categories[-1]:])*number_of_webpages)"
   ]
  },
  {
   "cell_type": "code",
   "execution_count": 24,
   "id": "c38d566a",
   "metadata": {},
   "outputs": [
    {
     "data": {
      "text/plain": [
       "[1.1664404523511374,\n",
       " 103.8335595476556,\n",
       " 6.042575157621365e-28,\n",
       " 9.486789662099832e-112,\n",
       " 2.527253365669127e-232,\n",
       " 0.0]"
      ]
     },
     "execution_count": 24,
     "metadata": {},
     "output_type": "execute_result"
    }
   ],
   "source": [
    "EXP"
   ]
  },
  {
   "cell_type": "code",
   "execution_count": 31,
   "id": "c0d69b06",
   "metadata": {},
   "outputs": [
    {
     "name": "stdout",
     "output_type": "stream",
     "text": [
      "X² = inf\n"
     ]
    },
    {
     "name": "stderr",
     "output_type": "stream",
     "text": [
      "/tmp/ipykernel_21653/3770439380.py:1: RuntimeWarning: divide by zero encountered in divide\n",
      "  x2 = np.sum((np.array(OBS) - np.array(EXP))**2 / np.array(EXP))\n"
     ]
    }
   ],
   "source": [
    "x2 = np.sum((np.array(OBS) - np.array(EXP))**2 / np.array(EXP))\n",
    "\n",
    "print(f\"X² = {x2:.2f}\")"
   ]
  },
  {
   "cell_type": "markdown",
   "id": "e05e832c",
   "metadata": {},
   "source": [
    "Let's try to avoid the last category to avoido division by zero:"
   ]
  },
  {
   "cell_type": "code",
   "execution_count": 32,
   "id": "3fe52f7a",
   "metadata": {},
   "outputs": [
    {
     "name": "stdout",
     "output_type": "stream",
     "text": [
      "X² = 15827459384710094367520323877250526489315638065308624040088829311175472123806677216350425060333262572468678515223471652015543085421673086258174724092412752039303768821116026091419721055690935406741495548155961334941741372620442435584.00\n"
     ]
    }
   ],
   "source": [
    "x2 = np.sum((np.array(OBS[:5]) - np.array(EXP[:5]))**2 / np.array(EXP[:5]))\n",
    "\n",
    "print(f\"X² = {x2:.2f}\")"
   ]
  },
  {
   "cell_type": "markdown",
   "id": "0d2b1873",
   "metadata": {},
   "source": [
    "I'm not sure, but it looks like the model isn't real!! Jokes aside, think about how the range of categories and the amount of data observed are related to this result."
   ]
  },
  {
   "cell_type": "markdown",
   "id": "d5c315af",
   "metadata": {},
   "source": [
    "### Is the lenght of the texts a Gaussian?"
   ]
  },
  {
   "cell_type": "code",
   "execution_count": 33,
   "id": "0fc35cae",
   "metadata": {},
   "outputs": [
    {
     "name": "stdout",
     "output_type": "stream",
     "text": [
      "[436085  58609 231236 163401  64673  71283  46430 458506 101574 130078\n",
      "  84438  95223  92389  83156  47866 153297 126661 162704 236703  96343\n",
      " 133286  96231 170405  56435  94987 124189  66961  45723  69790 114385\n",
      "  49314  52786 115009  62205 173504  91153  98320 120069 129551 156899\n",
      " 104863 156831  88957 138004 251963  52119  59812  89247  72800 118202\n",
      " 258867  94235  54572 312467 508198  38262  38262 438138  32542 508198\n",
      "  45762  51192  38346  38352  13662  45566  95024  74521 144032 256806\n",
      " 107820 107785  65382  39078  53155 202383 105245  24481 360248 271608\n",
      "  19452 361267  12544 276347 346435  12748 244561 185325  13769 185325\n",
      " 185326 189970 126525 197678 184614  18898  41884   3269  12299  12341\n",
      "  12249 255189  12428  46309  39185 241538]\n"
     ]
    }
   ],
   "source": [
    "len_texts = data[\"Tamanho_arquivo\"].values\n",
    "print(len_texts)"
   ]
  },
  {
   "cell_type": "code",
   "execution_count": 34,
   "id": "aefd8a1f",
   "metadata": {},
   "outputs": [
    {
     "data": {
      "image/png": "[encoded data removed]",
      "text/plain": [
       "<Figure size 640x480 with 1 Axes>"
      ]
     },
     "metadata": {},
     "output_type": "display_data"
    }
   ],
   "source": [
    "plt.hist(len_texts, bins=20, color='blue', alpha=0.7, edgecolor='black')  \n",
    "plt.title('Distribution of Text Lengths on Wikipedia Pages')\n",
    "plt.xlabel('Text Length (Number of Characters)')\n",
    "plt.ylabel('Frequency')\n",
    "plt.grid(axis='y', alpha=0.5)  \n",
    "plt.show()"
   ]
  },
  {
   "cell_type": "markdown",
   "id": "e2f5ddb7",
   "metadata": {},
   "source": [
    "Well, it doesn't look like a Gaussian at all, but you can test it for an exponential. Actually, I think is better to test the num_links for a exponential and the text lengths for a Poisson :)"
   ]
  }
 ],
 "metadata": {
  "kernelspec": {
   "display_name": "Python 3 (ipykernel)",
   "language": "python",
   "name": "python3"
  },
  "language_info": {
   "codemirror_mode": {
    "name": "ipython",
    "version": 3
   },
   "file_extension": ".py",
   "mimetype": "text/x-python",
   "name": "python",
   "nbconvert_exporter": "python",
   "pygments_lexer": "ipython3",
   "version": "3.12.3"
  }
 },
 "nbformat": 4,
 "nbformat_minor": 5
}
