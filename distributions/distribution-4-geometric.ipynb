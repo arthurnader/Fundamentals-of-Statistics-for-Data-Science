{
 "cells": [
  {
   "cell_type": "markdown",
   "id": "44ac1508",
   "metadata": {},
   "source": [
    "# Random Variables and Distributions: Geometric\n",
    "Name: Arthur Pontes Nader"
   ]
  },
  {
   "cell_type": "markdown",
   "id": "6c8b3c9f",
   "metadata": {},
   "source": [
    "##### The smartest player at the table is the one who observes the most."
   ]
  },
  {
   "cell_type": "markdown",
   "id": "4ee12634",
   "metadata": {},
   "source": [
    "## Libraries"
   ]
  },
  {
   "cell_type": "code",
   "execution_count": 16,
   "id": "e65ed144",
   "metadata": {},
   "outputs": [],
   "source": [
    "import matplotlib.pyplot as plt\n",
    "import scipy.stats as stats\n",
    "import numpy as np\n",
    "import math"
   ]
  },
  {
   "cell_type": "markdown",
   "id": "233e4b24",
   "metadata": {},
   "source": [
    "## Geometric distibution"
   ]
  },
  {
   "cell_type": "markdown",
   "id": "263b6d46",
   "metadata": {},
   "source": [
    "When you see an event that seems similar to: number of failures in a sequence of independent Bernoulli trials until the first success is observed, remember to use the geometric distibution."
   ]
  },
  {
   "cell_type": "markdown",
   "id": "fbf4c1ba",
   "metadata": {},
   "source": [
    "$$ P(X = k) = (1 - \\theta)^{k-1} \\theta $$"
   ]
  },
  {
   "cell_type": "code",
   "execution_count": 40,
   "id": "f2e5546b",
   "metadata": {},
   "outputs": [],
   "source": [
    "def geometric(k, p):\n",
    "    \n",
    "    return stats.geom.pmf(k, p)"
   ]
  },
  {
   "cell_type": "code",
   "execution_count": 41,
   "id": "148a47eb",
   "metadata": {},
   "outputs": [],
   "source": [
    "k = np.arange(1,20)\n",
    "p = 0.4\n",
    "probs = geometric(k, p)"
   ]
  },
  {
   "cell_type": "code",
   "execution_count": 42,
   "id": "744ec611",
   "metadata": {},
   "outputs": [
    {
     "data": {
      "text/plain": [
       "array([4.00000000e-01, 2.40000000e-01, 1.44000000e-01, 8.64000000e-02,\n",
       "       5.18400000e-02, 3.11040000e-02, 1.86624000e-02, 1.11974400e-02,\n",
       "       6.71846400e-03, 4.03107840e-03, 2.41864704e-03, 1.45118822e-03,\n",
       "       8.70712934e-04, 5.22427761e-04, 3.13456656e-04, 1.88073994e-04,\n",
       "       1.12844396e-04, 6.77066378e-05, 4.06239827e-05])"
      ]
     },
     "execution_count": 42,
     "metadata": {},
     "output_type": "execute_result"
    }
   ],
   "source": [
    "probs"
   ]
  },
  {
   "cell_type": "markdown",
   "id": "3e526d45",
   "metadata": {},
   "source": [
    "If we need 10 trials until the first succes, the associated probability is:"
   ]
  },
  {
   "cell_type": "code",
   "execution_count": 53,
   "id": "30ac8aa6",
   "metadata": {},
   "outputs": [
    {
     "data": {
      "text/plain": [
       "0.004031078399999999"
      ]
     },
     "execution_count": 53,
     "metadata": {},
     "output_type": "execute_result"
    }
   ],
   "source": [
    "probs[9]"
   ]
  },
  {
   "cell_type": "code",
   "execution_count": 54,
   "id": "3ddaf4f7",
   "metadata": {},
   "outputs": [
    {
     "data": {
      "text/plain": [
       "0.004031078399999999"
      ]
     },
     "execution_count": 54,
     "metadata": {},
     "output_type": "execute_result"
    }
   ],
   "source": [
    "(0.6**9)*(0.4)"
   ]
  },
  {
   "cell_type": "markdown",
   "id": "a5381c02",
   "metadata": {},
   "source": [
    "The expected value is just 1/p:"
   ]
  },
  {
   "cell_type": "code",
   "execution_count": 55,
   "id": "7621960e",
   "metadata": {},
   "outputs": [
    {
     "data": {
      "text/plain": [
       "2.5"
      ]
     },
     "execution_count": 55,
     "metadata": {},
     "output_type": "execute_result"
    }
   ],
   "source": [
    "1/p"
   ]
  },
  {
   "cell_type": "markdown",
   "id": "9c11e66b",
   "metadata": {},
   "source": [
    "An approximation:"
   ]
  },
  {
   "cell_type": "code",
   "execution_count": 58,
   "id": "d02ca3e2",
   "metadata": {},
   "outputs": [
    {
     "data": {
      "text/plain": [
       "2.4986898765589767"
      ]
     },
     "execution_count": 58,
     "metadata": {},
     "output_type": "execute_result"
    }
   ],
   "source": [
    "np.dot(k,probs)"
   ]
  },
  {
   "cell_type": "code",
   "execution_count": 59,
   "id": "11bbc4d6",
   "metadata": {},
   "outputs": [],
   "source": [
    "def geometric_cdf(k, p):\n",
    "    \n",
    "    return stats.geom.cdf(k, p)"
   ]
  },
  {
   "cell_type": "code",
   "execution_count": 60,
   "id": "ea8a6bd6",
   "metadata": {},
   "outputs": [],
   "source": [
    "probs_cum = geometric_cdf(k, p)"
   ]
  },
  {
   "cell_type": "code",
   "execution_count": 61,
   "id": "f1d88b16",
   "metadata": {},
   "outputs": [
    {
     "data": {
      "text/plain": [
       "array([0.4       , 0.64      , 0.784     , 0.8704    , 0.92224   ,\n",
       "       0.953344  , 0.9720064 , 0.98320384, 0.9899223 , 0.99395338,\n",
       "       0.99637203, 0.99782322, 0.99869393, 0.99921636, 0.99952982,\n",
       "       0.99971789, 0.99983073, 0.99989844, 0.99993906])"
      ]
     },
     "execution_count": 61,
     "metadata": {},
     "output_type": "execute_result"
    }
   ],
   "source": [
    "probs_cum"
   ]
  },
  {
   "cell_type": "markdown",
   "id": "e7eaa417",
   "metadata": {},
   "source": [
    "Let's see the graphs:"
   ]
  },
  {
   "cell_type": "code",
   "execution_count": 90,
   "id": "d95e0823",
   "metadata": {},
   "outputs": [
    {
     "data": {
      "image/png": "[encoded data removed]",
      "text/plain": [
       "<Figure size 640x480 with 1 Axes>"
      ]
     },
     "metadata": {},
     "output_type": "display_data"
    }
   ],
   "source": [
    "fig, ax = plt.subplots(1, 1)\n",
    "ax.plot(k, probs, 'bo', ms=8, label='geom pmf')\n",
    "ax.vlines(k, 0, probs, colors='b', lw=5, alpha=0.5)\n",
    "ax.set_title('Geometric distribution - PMF - p = 0.4', fontsize = 18)\n",
    "plt.show()"
   ]
  },
  {
   "cell_type": "code",
   "execution_count": 91,
   "id": "36f61505",
   "metadata": {},
   "outputs": [
    {
     "data": {
      "image/png": "[encoded data removed]",
      "text/plain": [
       "<Figure size 640x480 with 1 Axes>"
      ]
     },
     "metadata": {},
     "output_type": "display_data"
    }
   ],
   "source": [
    "fig, ax = plt.subplots(1, 1)\n",
    "ax.plot(k, probs_cum, 'bo', ms=8, label='geom cdf')\n",
    "ax.vlines(k, 0, probs_cum, colors='b', lw=5, alpha=0.5)\n",
    "ax.set_title('Geometric distribution - CDF - p = 0.4', fontsize = 18)\n",
    "plt.show()"
   ]
  },
  {
   "cell_type": "markdown",
   "id": "173d395a",
   "metadata": {},
   "source": [
    "Observe how p has a significant relation with the n trials needed to get the first succes:"
   ]
  },
  {
   "cell_type": "code",
   "execution_count": 257,
   "id": "1d97d69e",
   "metadata": {},
   "outputs": [],
   "source": [
    "p = 0.001\n",
    "r = stats.geom.rvs(p, size=10)"
   ]
  },
  {
   "cell_type": "code",
   "execution_count": 258,
   "id": "f72fd6d0",
   "metadata": {},
   "outputs": [
    {
     "data": {
      "text/plain": [
       "array([ 128, 1741,  781, 2228, 1944, 3452,  570,  519, 1848,  321])"
      ]
     },
     "execution_count": 258,
     "metadata": {},
     "output_type": "execute_result"
    }
   ],
   "source": [
    "r"
   ]
  },
  {
   "cell_type": "code",
   "execution_count": 259,
   "id": "7310fd8e",
   "metadata": {},
   "outputs": [],
   "source": [
    "p = 0.4\n",
    "r = stats.geom.rvs(p, size=10)"
   ]
  },
  {
   "cell_type": "code",
   "execution_count": 260,
   "id": "236ca375",
   "metadata": {},
   "outputs": [
    {
     "data": {
      "text/plain": [
       "array([6, 1, 2, 2, 2, 1, 3, 1, 3, 6])"
      ]
     },
     "execution_count": 260,
     "metadata": {},
     "output_type": "execute_result"
    }
   ],
   "source": [
    "r"
   ]
  },
  {
   "cell_type": "markdown",
   "id": "1a2744ab",
   "metadata": {},
   "source": [
    "## Casino machine"
   ]
  },
  {
   "cell_type": "markdown",
   "id": "108f4857",
   "metadata": {},
   "source": [
    "You are in a casino, and first of all and the more important: you know that the geometric distibution is memoryless. So, if you lose 9 times in a game that has 1/10 probability of success, this has nothing to do with your 10th attempt. You still have 90% of chance to lose."
   ]
  },
  {
   "cell_type": "markdown",
   "id": "f34d8adc",
   "metadata": {},
   "source": [
    "But you enter in a room of the casino that is written on the door: \"Everyday, we chose 1 among the 10 machines of this room to be a 25/100 succes probability machine\". Everytime you won, the machine is reseted and the game started again."
   ]
  },
  {
   "cell_type": "code",
   "execution_count": 237,
   "id": "ad507267",
   "metadata": {},
   "outputs": [],
   "source": [
    "def generate_machines():\n",
    "    \n",
    "    machines = [0.1]*9 + [0.25]\n",
    "    return machines"
   ]
  },
  {
   "cell_type": "code",
   "execution_count": 238,
   "id": "06ed5646",
   "metadata": {},
   "outputs": [
    {
     "data": {
      "text/plain": [
       "[0.1, 0.1, 0.1, 0.1, 0.1, 0.1, 0.1, 0.1, 0.1, 0.25]"
      ]
     },
     "execution_count": 238,
     "metadata": {},
     "output_type": "execute_result"
    }
   ],
   "source": [
    "machines = generate_machines()\n",
    "machines"
   ]
  },
  {
   "cell_type": "code",
   "execution_count": 239,
   "id": "a4ad73c0",
   "metadata": {},
   "outputs": [],
   "source": [
    "np.random.shuffle(machines)"
   ]
  },
  {
   "cell_type": "markdown",
   "id": "8c89f7db",
   "metadata": {},
   "source": [
    "All the machines are occupied and you are observing the players. By coincidence, each of the players played 3 full games, and now the room is empty! It's a lucky day because you observed the results and know you can choose the machine with the highest probability of winning, which is the 25/100 machine!"
   ]
  },
  {
   "cell_type": "code",
   "execution_count": 240,
   "id": "3fad7da0",
   "metadata": {},
   "outputs": [],
   "source": [
    "def generate_data_observed(machines):\n",
    "\n",
    "    data_machines = []\n",
    "    for p in machines:\n",
    "        data = stats.geom.rvs(p, size=3)\n",
    "        data_machines.append(data)\n",
    "        \n",
    "    return data_machines"
   ]
  },
  {
   "cell_type": "code",
   "execution_count": 241,
   "id": "13f6515a",
   "metadata": {},
   "outputs": [
    {
     "data": {
      "text/plain": [
       "[array([1, 4, 2]),\n",
       " array([4, 8, 5]),\n",
       " array([ 2, 48,  2]),\n",
       " array([ 9,  7, 25]),\n",
       " array([ 3,  3, 12]),\n",
       " array([ 4,  3, 12]),\n",
       " array([10,  1,  4]),\n",
       " array([3, 6, 7]),\n",
       " array([38,  8,  6]),\n",
       " array([8, 2, 4])]"
      ]
     },
     "execution_count": 241,
     "metadata": {},
     "output_type": "execute_result"
    }
   ],
   "source": [
    "data_machines = generate_data_observed(machines)\n",
    "data_machines"
   ]
  },
  {
   "cell_type": "markdown",
   "id": "e6dcbc3b",
   "metadata": {},
   "source": [
    "But the task is still hard, so you decided to put the data in the model of a geometric with p = 0.20, to help to decide:"
   ]
  },
  {
   "cell_type": "code",
   "execution_count": 242,
   "id": "85d8511e",
   "metadata": {},
   "outputs": [
    {
     "data": {
      "text/plain": [
       "array([2.00000000e-01, 1.60000000e-01, 1.28000000e-01, 1.02400000e-01,\n",
       "       8.19200000e-02, 6.55360000e-02, 5.24288000e-02, 4.19430400e-02,\n",
       "       3.35544320e-02, 2.68435456e-02, 2.14748365e-02, 1.71798692e-02,\n",
       "       1.37438953e-02, 1.09951163e-02, 8.79609302e-03, 7.03687442e-03,\n",
       "       5.62949953e-03, 4.50359963e-03, 3.60287970e-03, 2.88230376e-03,\n",
       "       2.30584301e-03, 1.84467441e-03, 1.47573953e-03, 1.18059162e-03,\n",
       "       9.44473297e-04, 7.55578637e-04, 6.04462910e-04, 4.83570328e-04,\n",
       "       3.86856262e-04, 3.09485010e-04, 2.47588008e-04, 1.98070406e-04,\n",
       "       1.58456325e-04, 1.26765060e-04, 1.01412048e-04, 8.11296384e-05,\n",
       "       6.49037107e-05, 5.19229686e-05, 4.15383749e-05, 3.32306999e-05,\n",
       "       2.65845599e-05, 2.12676479e-05, 1.70141183e-05, 1.36112947e-05,\n",
       "       1.08890357e-05, 8.71122859e-06, 6.96898287e-06, 5.57518630e-06,\n",
       "       4.46014904e-06])"
      ]
     },
     "execution_count": 242,
     "metadata": {},
     "output_type": "execute_result"
    }
   ],
   "source": [
    "probs_model = geometric(np.arange(1,50), 0.20)\n",
    "probs_model"
   ]
  },
  {
   "cell_type": "code",
   "execution_count": 243,
   "id": "2f8b42ff",
   "metadata": {},
   "outputs": [],
   "source": [
    "def calculate_probabilities(data_machines, probs_model, print_=False):\n",
    "\n",
    "    machines_prob = []\n",
    "    for i in range(len(data_machines)):\n",
    "        \n",
    "        if print_:\n",
    "            print(\"Machine: \" + str(i+1))\n",
    "\n",
    "        result = 1\n",
    "        for j in range(3):\n",
    "            result *= probs_model[data_machines[i][j]]\n",
    "            \n",
    "        if print_:\n",
    "            print(\"Result: \" + str(result))\n",
    "        \n",
    "        machines_prob.append(result)\n",
    "        \n",
    "    return machines_prob"
   ]
  },
  {
   "cell_type": "code",
   "execution_count": 244,
   "id": "d126e89e",
   "metadata": {},
   "outputs": [
    {
     "name": "stdout",
     "output_type": "stream",
     "text": [
      "Machine: 1\n",
      "Result: 0.0016777216000000011\n",
      "Machine: 2\n",
      "Result: 0.00018014398509482005\n",
      "Machine: 3\n",
      "Result: 7.307508186654538e-08\n",
      "Machine: 4\n",
      "Result: 8.507059173023481e-07\n",
      "Machine: 5\n",
      "Result: 0.00014411518807585608\n",
      "Machine: 6\n",
      "Result: 0.00011529215046068483\n",
      "Machine: 7\n",
      "Result: 0.0002814749767106563\n",
      "Machine: 8\n",
      "Result: 0.00022517998136852504\n",
      "Machine: 9\n",
      "Result: 7.307508186654537e-08\n",
      "Machine: 10\n",
      "Result: 0.00035184372088832035\n"
     ]
    }
   ],
   "source": [
    "machines_probs = calculate_probabilities(data_machines, probs_model, True)"
   ]
  },
  {
   "cell_type": "code",
   "execution_count": 245,
   "id": "4f1c6889",
   "metadata": {},
   "outputs": [],
   "source": [
    "def compare(machines_prob, machines):\n",
    "\n",
    "    return np.argmax(machines_prob) == np.argmax(machines)"
   ]
  },
  {
   "cell_type": "code",
   "execution_count": 246,
   "id": "24480c4f",
   "metadata": {},
   "outputs": [
    {
     "data": {
      "text/plain": [
       "False"
      ]
     },
     "execution_count": 246,
     "metadata": {},
     "output_type": "execute_result"
    }
   ],
   "source": [
    "compare(machines_probs, machines)"
   ]
  },
  {
   "cell_type": "markdown",
   "id": "9bf5824a",
   "metadata": {},
   "source": [
    "Oh no, the data you collected fooled you. But let's assume you go to the same casino 100 days in a row (be careful, you're addicted) and the experiment is always repeated in the same way. Let's run a simple code to verify how many times you nailed the desired machine:"
   ]
  },
  {
   "cell_type": "code",
   "execution_count": 254,
   "id": "5df3d428",
   "metadata": {},
   "outputs": [],
   "source": [
    "def experiment(n, probs_model):\n",
    "    \n",
    "    hits = 0\n",
    "    \n",
    "    for i in range(n):\n",
    "        \n",
    "        machines = generate_machines()\n",
    "        np.random.shuffle(machines)\n",
    "        \n",
    "        data_machines = generate_data_observed(machines)\n",
    "        machines_probs = calculate_probabilities(data_machines, probs_model, False)\n",
    "        \n",
    "        if compare(machines_probs, machines):\n",
    "            hits += 1\n",
    "    \n",
    "    return (hits/n)*100"
   ]
  },
  {
   "cell_type": "code",
   "execution_count": 255,
   "id": "94e6e22f",
   "metadata": {},
   "outputs": [],
   "source": [
    "probs_model = geometric(np.arange(1,100), 0.25)\n",
    "n = 100"
   ]
  },
  {
   "cell_type": "code",
   "execution_count": 256,
   "id": "79979c11",
   "metadata": {},
   "outputs": [
    {
     "data": {
      "text/plain": [
       "53.0"
      ]
     },
     "execution_count": 256,
     "metadata": {},
     "output_type": "execute_result"
    }
   ],
   "source": [
    "experiment(n, probs_model)"
   ]
  },
  {
   "cell_type": "markdown",
   "id": "6c52acb5",
   "metadata": {},
   "source": [
    "Ohh, although the first attempt was wrong, it looks good! In 100 days, we choose the right machine 53% of the time, while if we chose a random machine our probability of choosing the right machine would be only 10%."
   ]
  },
  {
   "cell_type": "code",
   "execution_count": null,
   "id": "33cf2b80",
   "metadata": {},
   "outputs": [],
   "source": []
  }
 ],
 "metadata": {
  "kernelspec": {
   "display_name": "Python 3 (ipykernel)",
   "language": "python",
   "name": "python3"
  },
  "language_info": {
   "codemirror_mode": {
    "name": "ipython",
    "version": 3
   },
   "file_extension": ".py",
   "mimetype": "text/x-python",
   "name": "python",
   "nbconvert_exporter": "python",
   "pygments_lexer": "ipython3",
   "version": "3.12.3"
  }
 },
 "nbformat": 4,
 "nbformat_minor": 5
}
