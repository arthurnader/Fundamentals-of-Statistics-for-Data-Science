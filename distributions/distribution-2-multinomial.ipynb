{
 "cells": [
  {
   "cell_type": "markdown",
   "id": "62fffb2e",
   "metadata": {},
   "source": [
    "# Random Variables and Distributions: Multinomial\n",
    "\n",
    "Name: Arthur Pontes Nader"
   ]
  },
  {
   "cell_type": "markdown",
   "id": "e5796bd1",
   "metadata": {},
   "source": [
    "##### It's simple: just imagine an unbalanced six-sided dice rolled n times."
   ]
  },
  {
   "cell_type": "markdown",
   "id": "28c5c321",
   "metadata": {},
   "source": [
    "## Libraries"
   ]
  },
  {
   "cell_type": "code",
   "execution_count": 143,
   "id": "5630b107",
   "metadata": {},
   "outputs": [],
   "source": [
    "import matplotlib.pyplot as plt\n",
    "import scipy.stats as stats\n",
    "import numpy as np\n",
    "import math"
   ]
  },
  {
   "cell_type": "markdown",
   "id": "9bc4531d",
   "metadata": {},
   "source": [
    "## Multinomial distibution"
   ]
  },
  {
   "cell_type": "markdown",
   "id": "819f1dab",
   "metadata": {},
   "source": [
    "Let's study a specific multinomial distribution for a six-sided dice. We will roll it 10 times and the probabilities associate to each face is: \n",
    "\n",
    "[0.10, 0.23, 0.08, 0.15, 0.33, 0.11]. \n",
    "\n",
    "The notation is (N1, N2, . . . , N6) ∼ M (n; θ1, . . . , θ6), where Ni is the random varible related to the number of launches that occurred on face i.\n",
    "\n",
    "In our example: M (10, 0.10, 0.23, 0.08, 0.15, 0.33, 0.11)\n",
    "\n",
    "\n",
    "I almost forgot it, before we delve into this distribution, observe the following summation:"
   ]
  },
  {
   "cell_type": "code",
   "execution_count": 243,
   "id": "71906685",
   "metadata": {},
   "outputs": [
    {
     "data": {
      "text/plain": [
       "1.0000000000000002"
      ]
     },
     "execution_count": 243,
     "metadata": {},
     "output_type": "execute_result"
    }
   ],
   "source": [
    "n = 10\n",
    "probs = [0.10, 0.23, 0.08, 0.15, 0.33, 0.11]\n",
    "np.sum(probs) ## Oh no, remember how floats are represented in computers"
   ]
  },
  {
   "cell_type": "markdown",
   "id": "e5eaa02e",
   "metadata": {},
   "source": [
    "The result of the experiment is to count how many times each of the k possibilities appeared in the repetitions, i.e, a multinomial random vector. In the case of the dice, each position count the number of occurences of each category. A possible result could be [1,2,0,2,4,1]. There are several sequences of 10 launches that lead to this result. Now, we have to calculate the probability of this configuration."
   ]
  },
  {
   "cell_type": "markdown",
   "id": "4749fea4",
   "metadata": {},
   "source": [
    "$$ P(outcome) = \\theta_1^{n_1} \\theta_2^{n_2} \\theta_3^{n_3} \\theta_4^{n_4} \\theta_5^{n_5} \\theta_6^{n_6} $$"
   ]
  },
  {
   "cell_type": "code",
   "execution_count": 244,
   "id": "822bdfdc",
   "metadata": {},
   "outputs": [],
   "source": [
    "values = [1,2,0,2,4,1]"
   ]
  },
  {
   "cell_type": "code",
   "execution_count": 245,
   "id": "33eb4616",
   "metadata": {},
   "outputs": [
    {
     "data": {
      "text/plain": [
       "1.5526967172750004e-07"
      ]
     },
     "execution_count": 245,
     "metadata": {},
     "output_type": "execute_result"
    }
   ],
   "source": [
    "prob = 1\n",
    "for i in range(6):\n",
    "    prob *= probs[i]**values[i]\n",
    "prob"
   ]
  },
  {
   "cell_type": "markdown",
   "id": "894e8ead",
   "metadata": {},
   "source": [
    "It's a good habit to use numpy for vectorized calculations:"
   ]
  },
  {
   "cell_type": "code",
   "execution_count": 246,
   "id": "ac1ed6f0",
   "metadata": {},
   "outputs": [
    {
     "data": {
      "text/plain": [
       "1.5526967172750004e-07"
      ]
     },
     "execution_count": 246,
     "metadata": {},
     "output_type": "execute_result"
    }
   ],
   "source": [
    "prob = np.product(np.power(probs, values))\n",
    "prob"
   ]
  },
  {
   "cell_type": "markdown",
   "id": "6e6c25af",
   "metadata": {},
   "source": [
    "How many sequences of launches can generate this configuration? It is the number of distinct permutations that lead to this configuration:"
   ]
  },
  {
   "cell_type": "markdown",
   "id": "ba17bb86",
   "metadata": {},
   "source": [
    "$$ \\frac{n!}{n_1!n_2!...n_k!} $$"
   ]
  },
  {
   "cell_type": "code",
   "execution_count": 247,
   "id": "b2cb2edb",
   "metadata": {},
   "outputs": [],
   "source": [
    "def number_of_permutations(outcome):\n",
    "    \n",
    "    return math.factorial(np.sum(outcome))/(np.prod([math.factorial(num) for num in outcome]))"
   ]
  },
  {
   "cell_type": "code",
   "execution_count": 248,
   "id": "794ca38d",
   "metadata": {},
   "outputs": [
    {
     "data": {
      "text/plain": [
       "37800.0"
      ]
     },
     "execution_count": 248,
     "metadata": {},
     "output_type": "execute_result"
    }
   ],
   "source": [
    "n_p = number_of_permutations(values)\n",
    "n_p"
   ]
  },
  {
   "cell_type": "markdown",
   "id": "7807ce41",
   "metadata": {},
   "source": [
    "Therefore:"
   ]
  },
  {
   "cell_type": "code",
   "execution_count": 249,
   "id": "c2d1f781",
   "metadata": {},
   "outputs": [
    {
     "data": {
      "text/plain": [
       "0.0058691935912995015"
      ]
     },
     "execution_count": 249,
     "metadata": {},
     "output_type": "execute_result"
    }
   ],
   "source": [
    "prob*n_p"
   ]
  },
  {
   "cell_type": "code",
   "execution_count": 251,
   "id": "b61f8f64",
   "metadata": {},
   "outputs": [
    {
     "data": {
      "text/plain": [
       "243447413647.78186"
      ]
     },
     "execution_count": 251,
     "metadata": {},
     "output_type": "execute_result"
    }
   ],
   "source": [
    "n_p/prob"
   ]
  },
  {
   "cell_type": "markdown",
   "id": "f534698d",
   "metadata": {},
   "source": [
    "The pmf is given by the formula:"
   ]
  },
  {
   "cell_type": "markdown",
   "id": "a4ce27db",
   "metadata": {},
   "source": [
    "$$ P(N = ({n_1,n_2,...,n_k})) = \\frac{n!}{n_1!n_2!...n_k!} \\theta_1^{n_1} \\theta_2^{n_2}...\\theta_k^{n_k} $$"
   ]
  },
  {
   "cell_type": "markdown",
   "id": "88c06e51",
   "metadata": {},
   "source": [
    "We can also use the following function to calculate the pmf of a outcome:"
   ]
  },
  {
   "cell_type": "code",
   "execution_count": 151,
   "id": "40408d7b",
   "metadata": {},
   "outputs": [],
   "source": [
    "def multinomial(n, probs, outcome):\n",
    "    \n",
    "    rv = stats.multinomial(n, probs)\n",
    "    distribution = rv.pmf(outcome)\n",
    "    \n",
    "    return distribution"
   ]
  },
  {
   "cell_type": "code",
   "execution_count": 152,
   "id": "609c23ac",
   "metadata": {},
   "outputs": [
    {
     "data": {
      "text/plain": [
       "0.005869193591299491"
      ]
     },
     "execution_count": 152,
     "metadata": {},
     "output_type": "execute_result"
    }
   ],
   "source": [
    "multinomial(n, probs, values)"
   ]
  },
  {
   "cell_type": "markdown",
   "id": "abb18bc5",
   "metadata": {},
   "source": [
    "You may notice that we have many possible outcomes. Some of them are practically impossible to get, like [0,0,10,0,0,0], which refers to getting 10 times the lowest probability face:"
   ]
  },
  {
   "cell_type": "code",
   "execution_count": 158,
   "id": "f22edcc7",
   "metadata": {},
   "outputs": [
    {
     "data": {
      "text/plain": [
       "1.0737418239999982e-11"
      ]
     },
     "execution_count": 158,
     "metadata": {},
     "output_type": "execute_result"
    }
   ],
   "source": [
    "values = [0,0,10,0,0,0]\n",
    "\n",
    "multinomial(n, probs, values)"
   ]
  },
  {
   "cell_type": "markdown",
   "id": "abd13d6f",
   "metadata": {},
   "source": [
    "## A little of Information Theory"
   ]
  },
  {
   "cell_type": "markdown",
   "id": "54215580",
   "metadata": {},
   "source": [
    "Entropy gives us the measure of uncertainty, randomness, or disorder in a system or distribution. "
   ]
  },
  {
   "cell_type": "code",
   "execution_count": 379,
   "id": "eb639afd",
   "metadata": {},
   "outputs": [],
   "source": [
    "def entropy(n, probs):\n",
    "    \n",
    "    return stats.multinomial.entropy(n, probs)"
   ]
  },
  {
   "cell_type": "code",
   "execution_count": 363,
   "id": "e49de0f0",
   "metadata": {},
   "outputs": [],
   "source": [
    "n = 1\n",
    "probs = [0.20, 0.20, 0.20, 0.20, 0.20]"
   ]
  },
  {
   "cell_type": "code",
   "execution_count": 364,
   "id": "8cc56e44",
   "metadata": {},
   "outputs": [
    {
     "data": {
      "text/plain": [
       "1.6094379124341005"
      ]
     },
     "execution_count": 364,
     "metadata": {},
     "output_type": "execute_result"
    }
   ],
   "source": [
    "e = -np.sum(probs*np.log(probs))\n",
    "e"
   ]
  },
  {
   "cell_type": "code",
   "execution_count": 365,
   "id": "c7332258",
   "metadata": {},
   "outputs": [
    {
     "data": {
      "text/plain": [
       "array(1.60943791)"
      ]
     },
     "execution_count": 365,
     "metadata": {},
     "output_type": "execute_result"
    }
   ],
   "source": [
    "entropy(n, probs)"
   ]
  },
  {
   "cell_type": "markdown",
   "id": "e2faf4d8",
   "metadata": {},
   "source": [
    "And if we have more than 1 trial?"
   ]
  },
  {
   "cell_type": "code",
   "execution_count": 370,
   "id": "a204b317",
   "metadata": {},
   "outputs": [],
   "source": [
    "n = 2\n",
    "probs = [0.20, 0.20, 0.20, 0.20, 0.20]"
   ]
  },
  {
   "cell_type": "code",
   "execution_count": 371,
   "id": "fce01fef",
   "metadata": {},
   "outputs": [
    {
     "data": {
      "text/plain": [
       "array(2.66435808)"
      ]
     },
     "execution_count": 371,
     "metadata": {},
     "output_type": "execute_result"
    }
   ],
   "source": [
    "entropy(n, probs)"
   ]
  },
  {
   "cell_type": "markdown",
   "id": "b9e88cb1",
   "metadata": {},
   "source": [
    "In the context of a multinomial distribution with multiple trials, entropy represents the average amount of information or surprise associated with observing a sequence of outcomes. With more trials, each possible sequence is getting more and more rare. So, the associated entropy is higher:"
   ]
  },
  {
   "cell_type": "code",
   "execution_count": 433,
   "id": "ed23f50e",
   "metadata": {},
   "outputs": [],
   "source": [
    "n = 10\n",
    "probs = [0.20, 0.20, 0.20, 0.20, 0.20]"
   ]
  },
  {
   "cell_type": "code",
   "execution_count": 434,
   "id": "a82bc48b",
   "metadata": {},
   "outputs": [
    {
     "data": {
      "text/plain": [
       "array(6.09117124)"
      ]
     },
     "execution_count": 434,
     "metadata": {},
     "output_type": "execute_result"
    }
   ],
   "source": [
    "entropy(n, probs)"
   ]
  },
  {
   "cell_type": "markdown",
   "id": "985c6d8b",
   "metadata": {},
   "source": [
    "In the examples above, the entropy is maximum because the probabilities are equal. Let's try a different multinomial:"
   ]
  },
  {
   "cell_type": "code",
   "execution_count": 435,
   "id": "b3db84bd",
   "metadata": {},
   "outputs": [],
   "source": [
    "n = 10\n",
    "probs = [0.01, 0.01, 0.02, 0.95, 0.01]"
   ]
  },
  {
   "cell_type": "code",
   "execution_count": 436,
   "id": "4fdf001f",
   "metadata": {},
   "outputs": [
    {
     "data": {
      "text/plain": [
       "array(1.53345437)"
      ]
     },
     "execution_count": 436,
     "metadata": {},
     "output_type": "execute_result"
    }
   ],
   "source": [
    "entropy(n, probs)"
   ]
  },
  {
   "cell_type": "markdown",
   "id": "31b35fe7",
   "metadata": {},
   "source": [
    "## Model Comparison"
   ]
  },
  {
   "cell_type": "markdown",
   "id": "b1771f40",
   "metadata": {},
   "source": [
    "Let's suppose we have 3 differente twenty-faced dices, with the following probabilities to each face:\n"
   ]
  },
  {
   "cell_type": "code",
   "execution_count": 225,
   "id": "c8453dc6",
   "metadata": {},
   "outputs": [],
   "source": [
    "A = [0.3,0.2,0.15,0.1,0.05,0.05,0.05,0.05,0.05,0,0,0,0,0,0,0,0,0,0,0]\n",
    "B = [0.15,0.15,0.1,0.1,0.1,0.1,0.1,0.1,0.05,0.05,0,0,0,0,0,0,0,0,0,0]\n",
    "C = [0.05]* 20 # an unbiased dice "
   ]
  },
  {
   "cell_type": "markdown",
   "id": "5aeb4ae4",
   "metadata": {},
   "source": [
    "We chose one of the dice at random, and in 7 rolls of it, we observed the following faces:\n",
    "\n",
    "[3, 5, 4, 8, 3, 9, 7]\n",
    "\n",
    "which gives us the configuration:\n",
    "\n",
    "[0,0,2,1,1,0,1,1,1,0,0,0,0,0,0,0,0,0,0,0]"
   ]
  },
  {
   "cell_type": "code",
   "execution_count": 226,
   "id": "be9324b8",
   "metadata": {},
   "outputs": [],
   "source": [
    "outcome = [0,0,2,1,1,0,1,1,1,0,0,0,0,0,0,0,0,0,0,0]"
   ]
  },
  {
   "cell_type": "markdown",
   "id": "8e4a11fc",
   "metadata": {},
   "source": [
    "Which dice was chosen?"
   ]
  },
  {
   "cell_type": "code",
   "execution_count": 227,
   "id": "22c23a52",
   "metadata": {},
   "outputs": [
    {
     "data": {
      "text/plain": [
       "3.5437499999999994e-05"
      ]
     },
     "execution_count": 227,
     "metadata": {},
     "output_type": "execute_result"
    }
   ],
   "source": [
    "multinomial(7, A, outcome)"
   ]
  },
  {
   "cell_type": "code",
   "execution_count": 228,
   "id": "0a6c2158",
   "metadata": {},
   "outputs": [
    {
     "data": {
      "text/plain": [
       "0.00012599999999999995"
      ]
     },
     "execution_count": 228,
     "metadata": {},
     "output_type": "execute_result"
    }
   ],
   "source": [
    "multinomial(7, B, outcome)"
   ]
  },
  {
   "cell_type": "code",
   "execution_count": 229,
   "id": "5238b6cb",
   "metadata": {},
   "outputs": [
    {
     "data": {
      "text/plain": [
       "1.968750000000005e-06"
      ]
     },
     "execution_count": 229,
     "metadata": {},
     "output_type": "execute_result"
    }
   ],
   "source": [
    "multinomial(7, C, outcome)"
   ]
  },
  {
   "cell_type": "markdown",
   "id": "1b787a86",
   "metadata": {},
   "source": [
    "What if we had just one small difference: an extra result with a side of 15?"
   ]
  },
  {
   "cell_type": "code",
   "execution_count": 252,
   "id": "9c3ba7fb",
   "metadata": {},
   "outputs": [],
   "source": [
    "outcome = [0,0,2,1,1,0,1,1,1,0,0,0,0,0,1,0,0,0,0,0]"
   ]
  },
  {
   "cell_type": "code",
   "execution_count": 253,
   "id": "64d5c2a7",
   "metadata": {},
   "outputs": [
    {
     "data": {
      "text/plain": [
       "0.0"
      ]
     },
     "execution_count": 253,
     "metadata": {},
     "output_type": "execute_result"
    }
   ],
   "source": [
    "multinomial(8, A, outcome)"
   ]
  },
  {
   "cell_type": "code",
   "execution_count": 254,
   "id": "c016d30f",
   "metadata": {},
   "outputs": [
    {
     "data": {
      "text/plain": [
       "0.0"
      ]
     },
     "execution_count": 254,
     "metadata": {},
     "output_type": "execute_result"
    }
   ],
   "source": [
    "multinomial(8, B, outcome)"
   ]
  },
  {
   "cell_type": "code",
   "execution_count": 255,
   "id": "9e596f01",
   "metadata": {},
   "outputs": [
    {
     "data": {
      "text/plain": [
       "7.875000000000027e-07"
      ]
     },
     "execution_count": 255,
     "metadata": {},
     "output_type": "execute_result"
    }
   ],
   "source": [
    "multinomial(8, C, outcome)"
   ]
  }
 ],
 "metadata": {
  "kernelspec": {
   "display_name": "Python 3 (ipykernel)",
   "language": "python",
   "name": "python3"
  },
  "language_info": {
   "codemirror_mode": {
    "name": "ipython",
    "version": 3
   },
   "file_extension": ".py",
   "mimetype": "text/x-python",
   "name": "python",
   "nbconvert_exporter": "python",
   "pygments_lexer": "ipython3",
   "version": "3.12.3"
  }
 },
 "nbformat": 4,
 "nbformat_minor": 5
}
