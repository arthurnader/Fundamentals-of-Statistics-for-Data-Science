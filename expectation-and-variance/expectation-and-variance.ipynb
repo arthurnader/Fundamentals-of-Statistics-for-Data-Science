{
 "cells": [
  {
   "cell_type": "markdown",
   "id": "03b1c01f",
   "metadata": {},
   "source": [
    "# Expectation and variance\n",
    "\n",
    "Name: Arthur Pontes Nader"
   ]
  },
  {
   "cell_type": "markdown",
   "id": "14702cb0",
   "metadata": {},
   "source": [
    "An important topic regarding random variables is their expectation, also known as the expected value, and their variance. The expectation provides the theoretical average value around which the samples of your distribution will vary. The variance, which is the square of the standard deviation, measures how much the values tend to deviate from the expectation."
   ]
  },
  {
   "cell_type": "markdown",
   "id": "be83b18f",
   "metadata": {},
   "source": [
    "## Libraries"
   ]
  },
  {
   "cell_type": "code",
   "execution_count": 3,
   "id": "7f40f31d",
   "metadata": {},
   "outputs": [],
   "source": [
    "import matplotlib.pyplot as plt\n",
    "import scipy.stats as stats\n",
    "import numpy as np\n",
    "import math\n",
    "\n",
    "from scipy.integrate import quad\n",
    "\n",
    "np.set_printoptions(suppress=True)"
   ]
  },
  {
   "cell_type": "markdown",
   "id": "fd8f228c",
   "metadata": {},
   "source": [
    "## Expectation"
   ]
  },
  {
   "cell_type": "markdown",
   "id": "aa2148dc",
   "metadata": {},
   "source": [
    "### Expectation of discrete distribution"
   ]
  },
  {
   "cell_type": "markdown",
   "id": "76ff6d12",
   "metadata": {},
   "source": [
    "As we saw a little before studying some distributions, the expectation of discrete case is given by:\n",
    "\n",
    "\n",
    "$$ \\mathbb{E}[X] = \\sum_{x_i}^{} x_i \\cdot p(X = x_i) $$"
   ]
  },
  {
   "cell_type": "code",
   "execution_count": 4,
   "id": "8103f612",
   "metadata": {},
   "outputs": [],
   "source": [
    "n = 20\n",
    "prob = 0.6\n",
    "x = np.arange(0,50)\n",
    "\n",
    "pmf = stats.binom.pmf(x, n, p=prob)"
   ]
  },
  {
   "cell_type": "code",
   "execution_count": 5,
   "id": "294bfca3",
   "metadata": {},
   "outputs": [
    {
     "data": {
      "text/plain": [
       "12.000000000000014"
      ]
     },
     "execution_count": 5,
     "metadata": {},
     "output_type": "execute_result"
    }
   ],
   "source": [
    "exp_x = x.dot(pmf)\n",
    "exp_x"
   ]
  },
  {
   "cell_type": "markdown",
   "id": "6261b2da",
   "metadata": {},
   "source": [
    "There are formulas that gives you directly the expectation for some distributions. In the case of binomial, is just n\\*p"
   ]
  },
  {
   "cell_type": "code",
   "execution_count": 6,
   "id": "b92a7f5f",
   "metadata": {},
   "outputs": [
    {
     "data": {
      "text/plain": [
       "12.0"
      ]
     },
     "execution_count": 6,
     "metadata": {},
     "output_type": "execute_result"
    }
   ],
   "source": [
    "n*prob"
   ]
  },
  {
   "cell_type": "markdown",
   "id": "8cf6c470",
   "metadata": {},
   "source": [
    "### Expectation of continuous distribution\n",
    "\n",
    "In the continuous case, you have to calculate the expectation integrating over the pdf:\n",
    "\n",
    "$$ \\mathbb{E}[X] = \\int_{-\\infty}^{\\infty} x \\cdot f(x) \\, dx $$"
   ]
  },
  {
   "cell_type": "markdown",
   "id": "306239e9",
   "metadata": {},
   "source": [
    "Let's try for a exponential distribution:"
   ]
  },
  {
   "cell_type": "code",
   "execution_count": null,
   "id": "cdaea64f",
   "metadata": {},
   "outputs": [],
   "source": [
    "lambda_ = 0.5"
   ]
  },
  {
   "cell_type": "markdown",
   "id": "162edb63",
   "metadata": {},
   "source": [
    "We already know that the expected value is 1/lambda."
   ]
  },
  {
   "cell_type": "code",
   "execution_count": 98,
   "id": "a424440d",
   "metadata": {},
   "outputs": [
    {
     "data": {
      "text/plain": [
       "2.0"
      ]
     },
     "execution_count": 98,
     "metadata": {},
     "output_type": "execute_result"
    }
   ],
   "source": [
    "exp = 1/lambda_\n",
    "exp"
   ]
  },
  {
   "cell_type": "code",
   "execution_count": 101,
   "id": "4f5592eb",
   "metadata": {},
   "outputs": [
    {
     "name": "stdout",
     "output_type": "stream",
     "text": [
      "Expected value: 1.9999999999999998\n"
     ]
    }
   ],
   "source": [
    "def exponential_pdf(x, lambda_):\n",
    "    return lambda_ * np.exp(-lambda_ * x)\n",
    "\n",
    "def integrand(x, lambda_):\n",
    "    return x * exponential_pdf(x, lambda_)\n",
    "\n",
    "expected_value, _ = quad(integrand, 0, np.inf, args=(lambda_,))\n",
    "\n",
    "print(f\"Expected value: {expected_value}\")"
   ]
  },
  {
   "cell_type": "markdown",
   "id": "606dd77a",
   "metadata": {},
   "source": [
    "### Properties of expectation\n",
    "\n",
    "Let Y be a random variable in such a way that Y = a + bX, where a and b are constants and X is another random variable. So:\n",
    "\n",
    "$$ \\mathbb{E}[Y] = a + b \\cdot \\mathbb{E}[X] $$"
   ]
  },
  {
   "cell_type": "code",
   "execution_count": 7,
   "id": "8cb5de63",
   "metadata": {},
   "outputs": [
    {
     "data": {
      "text/plain": [
       "29.000000000000032"
      ]
     },
     "execution_count": 7,
     "metadata": {},
     "output_type": "execute_result"
    }
   ],
   "source": [
    "y = 2*x + 5\n",
    "\n",
    "exp_y = y.dot(pmf)\n",
    "exp_y"
   ]
  },
  {
   "cell_type": "code",
   "execution_count": 8,
   "id": "2fcd485e",
   "metadata": {},
   "outputs": [
    {
     "data": {
      "text/plain": [
       "29.00000000000003"
      ]
     },
     "execution_count": 8,
     "metadata": {},
     "output_type": "execute_result"
    }
   ],
   "source": [
    "2*exp_x + 5"
   ]
  },
  {
   "cell_type": "markdown",
   "id": "c2eb548e",
   "metadata": {},
   "source": [
    "If a = -E[X] = -μ and b = 1, we say that Y is a random variable centered (in its expectation)"
   ]
  },
  {
   "cell_type": "code",
   "execution_count": 9,
   "id": "94e345f7",
   "metadata": {},
   "outputs": [
    {
     "data": {
      "text/plain": [
       "-1.3222116544003848e-14"
      ]
     },
     "execution_count": 9,
     "metadata": {},
     "output_type": "execute_result"
    }
   ],
   "source": [
    "y = x - exp_x\n",
    "\n",
    "exp_y = y.dot(pmf)\n",
    "exp_y # almost zero"
   ]
  },
  {
   "cell_type": "markdown",
   "id": "3164fff9",
   "metadata": {},
   "source": [
    "Let X and Y two random variables. The following property is valid:\n",
    "\n",
    "$$ \\mathbb{E}[X + Y] = \\mathbb{E}[X] + \\mathbb{E}[Y] $$"
   ]
  },
  {
   "cell_type": "code",
   "execution_count": 18,
   "id": "7845b71c",
   "metadata": {},
   "outputs": [],
   "source": [
    "n = 20\n",
    "prob = 0.6\n",
    "x = np.arange(0,25)\n",
    "\n",
    "pmf_x = stats.binom.pmf(x, n, p=prob)"
   ]
  },
  {
   "cell_type": "code",
   "execution_count": 19,
   "id": "56eecabf",
   "metadata": {},
   "outputs": [],
   "source": [
    "exp_x = n*prob"
   ]
  },
  {
   "cell_type": "code",
   "execution_count": 20,
   "id": "c5e396da",
   "metadata": {},
   "outputs": [],
   "source": [
    "lambda_ = 10\n",
    "y = np.arange(0, 25)\n",
    "\n",
    "pmf_y = stats.poisson.pmf(y, lambda_)"
   ]
  },
  {
   "cell_type": "code",
   "execution_count": 21,
   "id": "e836e43d",
   "metadata": {},
   "outputs": [],
   "source": [
    "exp_y = lambda_"
   ]
  },
  {
   "cell_type": "code",
   "execution_count": 22,
   "id": "584bdb23",
   "metadata": {},
   "outputs": [
    {
     "data": {
      "text/plain": [
       "22.0"
      ]
     },
     "execution_count": 22,
     "metadata": {},
     "output_type": "execute_result"
    }
   ],
   "source": [
    "exp_x + exp_y"
   ]
  },
  {
   "cell_type": "markdown",
   "id": "41218da9",
   "metadata": {},
   "source": [
    "$$ \\mathbb{E}(X + Y) = \\sum_{i} \\sum_{j} (x_i + y_j) P(X = x_i, Y = y_j) $$"
   ]
  },
  {
   "cell_type": "code",
   "execution_count": 23,
   "id": "6af143ae",
   "metadata": {},
   "outputs": [],
   "source": [
    "exp_x_y = 0\n",
    "for i in range(len(pmf_x)):\n",
    "    for j in range(len(pmf_y)): \n",
    "        exp_x_y += (x[i]+y[j])*(pmf_x[i]*pmf_y[j])"
   ]
  },
  {
   "cell_type": "code",
   "execution_count": 24,
   "id": "ac28af16",
   "metadata": {},
   "outputs": [
    {
     "data": {
      "text/plain": [
       "21.998235385883465"
      ]
     },
     "execution_count": 24,
     "metadata": {},
     "output_type": "execute_result"
    }
   ],
   "source": [
    "exp_x_y ## it is an approximation"
   ]
  },
  {
   "cell_type": "markdown",
   "id": "7ab5144f",
   "metadata": {},
   "source": [
    "Let's visualize it in two different ways. First, by a joint probability grid"
   ]
  },
  {
   "cell_type": "code",
   "execution_count": 43,
   "id": "54823c27",
   "metadata": {},
   "outputs": [],
   "source": [
    "X, Y = np.meshgrid(x, y)\n",
    "Z = X + Y"
   ]
  },
  {
   "cell_type": "code",
   "execution_count": 44,
   "id": "25a5bc98",
   "metadata": {},
   "outputs": [
    {
     "data": {
      "image/png": "[encoded data removed]",
      "text/plain": [
       "<Figure size 1000x600 with 2 Axes>"
      ]
     },
     "metadata": {},
     "output_type": "display_data"
    }
   ],
   "source": [
    "pmf_xy = np.outer(pmf_x, pmf_y)\n",
    "\n",
    "plt.figure(figsize=(10, 6))\n",
    "plt.contourf(X, Y, pmf_xy, levels=50, cmap='viridis')\n",
    "plt.colorbar(label='Joint probability')\n",
    "plt.xlabel('X')\n",
    "plt.ylabel('Y')\n",
    "plt.title('Joint distribution of X and Y')\n",
    "\n",
    "plt.show()"
   ]
  },
  {
   "cell_type": "markdown",
   "id": "139082fc",
   "metadata": {},
   "source": [
    "You can notice that the brighter region is where X + Y is around 22."
   ]
  },
  {
   "cell_type": "markdown",
   "id": "609b08c1",
   "metadata": {},
   "source": [
    "Now, let's generate samples of the two distributions, sum them and visualize the resulting histogram:"
   ]
  },
  {
   "cell_type": "code",
   "execution_count": 88,
   "id": "6826dba9",
   "metadata": {},
   "outputs": [
    {
     "data": {
      "image/png": "[encoded data removed]",
      "text/plain": [
       "<Figure size 1000x600 with 1 Axes>"
      ]
     },
     "metadata": {},
     "output_type": "display_data"
    }
   ],
   "source": [
    "num_samples = 10000\n",
    "samples_x = stats.binom.rvs(20, 0.6, size=num_samples)\n",
    "samples_y = stats.poisson.rvs(10, size=num_samples)\n",
    "\n",
    "samples_sum = samples_x + samples_y\n",
    "\n",
    "plt.figure(figsize=(10, 6))\n",
    "plt.hist(samples_sum, bins=30, density=True, alpha=0.6, color='purple',edgecolor='black')\n",
    "plt.axvline(x=22, color='black', linestyle='--', linewidth=2)\n",
    "plt.title('Histogram of the sum X + Y', fontsize = 16)\n",
    "plt.xlabel('X + Y')\n",
    "plt.show()"
   ]
  },
  {
   "cell_type": "markdown",
   "id": "8833ca00",
   "metadata": {},
   "source": [
    "It appears to actually be centered around 22"
   ]
  },
  {
   "cell_type": "markdown",
   "id": "14c6a23f",
   "metadata": {},
   "source": [
    "Let X and Y two independent random variables. The following property is valid:\n",
    "\n",
    "$$ \\mathbb{E}[X \\cdot Y] = \\mathbb{E}[X] \\cdot \\mathbb{E}[Y] $$"
   ]
  },
  {
   "cell_type": "code",
   "execution_count": 69,
   "id": "72dd49f3",
   "metadata": {},
   "outputs": [
    {
     "data": {
      "text/plain": [
       "120.0"
      ]
     },
     "execution_count": 69,
     "metadata": {},
     "output_type": "execute_result"
    }
   ],
   "source": [
    "exp_x*exp_y"
   ]
  },
  {
   "cell_type": "markdown",
   "id": "35259541",
   "metadata": {},
   "source": [
    "$$ \\mathbb{E}(X \\cdot Y) = \\sum_{i} \\sum_{j} (x_i \\cdot y_j) P(X = x_i, Y = y_j) $$"
   ]
  },
  {
   "cell_type": "code",
   "execution_count": 76,
   "id": "02ad4239",
   "metadata": {},
   "outputs": [],
   "source": [
    "exp_x_y_2 = 0\n",
    "for i in range(len(pmf_x)):\n",
    "    for j in range(len(pmf_y)): \n",
    "        exp_x_y_2 += x[i]*y[j]*pmf_x[i]*pmf_y[j]"
   ]
  },
  {
   "cell_type": "code",
   "execution_count": 77,
   "id": "30da0a65",
   "metadata": {},
   "outputs": [
    {
     "data": {
      "text/plain": [
       "119.98558534152636"
      ]
     },
     "execution_count": 77,
     "metadata": {},
     "output_type": "execute_result"
    }
   ],
   "source": [
    "exp_x_y_2 ## remember, it is an approximation"
   ]
  },
  {
   "cell_type": "markdown",
   "id": "92b00071",
   "metadata": {},
   "source": [
    "Think a little about the multiplication of X and Y in the grid where the probability is higher and compare it with the value above. Let's see new histogram:"
   ]
  },
  {
   "cell_type": "code",
   "execution_count": 91,
   "id": "39090bac",
   "metadata": {},
   "outputs": [
    {
     "data": {
      "image/png": "[encoded data removed]",
      "text/plain": [
       "<Figure size 1000x600 with 1 Axes>"
      ]
     },
     "metadata": {},
     "output_type": "display_data"
    }
   ],
   "source": [
    "num_samples = 10000\n",
    "samples_x = stats.binom.rvs(20, 0.6, size=num_samples)\n",
    "samples_y = stats.poisson.rvs(10, size=num_samples)\n",
    "\n",
    "samples_sum = samples_x * samples_y\n",
    "\n",
    "plt.figure(figsize=(10, 6))\n",
    "plt.hist(samples_sum, bins=30, density=True, alpha=0.6, color='purple',edgecolor='black')\n",
    "plt.axvline(x=120, color='black', linestyle='--', linewidth=2)\n",
    "plt.title('Histogram of the sum X + Y', fontsize = 16)\n",
    "plt.xlabel('X + Y')\n",
    "plt.show()"
   ]
  },
  {
   "cell_type": "markdown",
   "id": "ad816b1d",
   "metadata": {},
   "source": [
    "## Variance"
   ]
  },
  {
   "cell_type": "markdown",
   "id": "7875f83d",
   "metadata": {},
   "source": [
    "Remember, we want to measure the variation of a random variable around its expectation, μ.\n",
    "\n",
    "X−μ is sometimes positive and sometimes negative. We are more interested in the magnitude of the deviation, not its sign.\n",
    "\n",
    "What about ∣X−μ∣? It's a random variable, so it has a distribution. We want a unique number to represent the entire distribution\n",
    "\n",
    "And if we take E[∣X−μ∣]? We are getting close, but calculations involving absolute values are a bit complicated. Think about it: what is the derivative of ∣x∣ at the minimum of the function?\n"
   ]
  },
  {
   "cell_type": "code",
   "execution_count": 12,
   "id": "02864235",
   "metadata": {},
   "outputs": [
    {
     "data": {
      "image/png": "[encoded data removed]",
      "text/plain": [
       "<Figure size 500x300 with 1 Axes>"
      ]
     },
     "metadata": {},
     "output_type": "display_data"
    }
   ],
   "source": [
    "x = np.arange(-5,6)\n",
    "y = abs(x)\n",
    "\n",
    "plt.figure(figsize=(5,3))\n",
    "plt.plot(x,y)\n",
    "plt.show()"
   ]
  },
  {
   "cell_type": "markdown",
   "id": "31efbeae",
   "metadata": {},
   "source": [
    "Instead, we often consider the squared deviation, (X−μ)^2, which is always non-negative and gives more weight to larger deviations. The expected value of the squared deviation, E[(X−μ)^2], is called the variance, denoted by Var(X) or σ^2. The square root of the variance is the standard deviation, σ, which provides a measure of the average distance of the random variable from its mean.\n",
    "\n",
    "Therefore, by examining the variance or standard deviation, we can quantify the spread or dispersion of the random variable around its mean."
   ]
  },
  {
   "cell_type": "markdown",
   "id": "003c14f8",
   "metadata": {},
   "source": [
    "### Variance of discrete distribution"
   ]
  },
  {
   "cell_type": "markdown",
   "id": "b04f06b6",
   "metadata": {},
   "source": [
    "Remember $$E(g(X) = \\sum_{i} g(x_i) P(X = x_i)$$\n",
    "\n",
    "Let $$g(X) = (X − μ)^2$$So:\n",
    "\n",
    "$$ V(X) = E((X − μ)^2) = \\sum_{i} (x_i − μ)^2 P(X = x_i)$$\n"
   ]
  },
  {
   "cell_type": "code",
   "execution_count": 17,
   "id": "c9cf0957",
   "metadata": {},
   "outputs": [],
   "source": [
    "n = 25\n",
    "prob = 0.4\n",
    "x = np.arange(0,50)\n",
    "\n",
    "pmf = stats.binom.pmf(x, n, p=prob)"
   ]
  },
  {
   "cell_type": "code",
   "execution_count": 18,
   "id": "f943c97b",
   "metadata": {},
   "outputs": [
    {
     "data": {
      "text/plain": [
       "10.0"
      ]
     },
     "execution_count": 18,
     "metadata": {},
     "output_type": "execute_result"
    }
   ],
   "source": [
    "exp_val = n*prob\n",
    "exp_val"
   ]
  },
  {
   "cell_type": "code",
   "execution_count": 19,
   "id": "d198ec22",
   "metadata": {},
   "outputs": [
    {
     "data": {
      "text/plain": [
       "6.000000000000006"
      ]
     },
     "execution_count": 19,
     "metadata": {},
     "output_type": "execute_result"
    }
   ],
   "source": [
    "variance = ((x-exp_val)**2).dot(pmf)\n",
    "variance"
   ]
  },
  {
   "cell_type": "markdown",
   "id": "0d34f9e9",
   "metadata": {},
   "source": [
    "### Another way to calculate variance:\n",
    "\n",
    "$$ V(X) = E[X²] - (E[X])² $$"
   ]
  },
  {
   "cell_type": "code",
   "execution_count": 33,
   "id": "544eee62",
   "metadata": {},
   "outputs": [
    {
     "data": {
      "text/plain": [
       "6.000000000000128"
      ]
     },
     "execution_count": 33,
     "metadata": {},
     "output_type": "execute_result"
    }
   ],
   "source": [
    "variance = (x**2).dot(pmf) - exp_val**2\n",
    "variance"
   ]
  },
  {
   "cell_type": "markdown",
   "id": "70140df7",
   "metadata": {},
   "source": [
    "### Variance of continuous distribution\n",
    "\n",
    "$$ V(X) = E((X − μ)^2) = \\int (x − μ)^2 f(x) \\, dx $$"
   ]
  },
  {
   "cell_type": "code",
   "execution_count": 23,
   "id": "5526dac3",
   "metadata": {},
   "outputs": [],
   "source": [
    "lambda_ = 3"
   ]
  },
  {
   "cell_type": "code",
   "execution_count": 25,
   "id": "7d245214",
   "metadata": {},
   "outputs": [
    {
     "name": "stdout",
     "output_type": "stream",
     "text": [
      "Expected value: 0.33333333333333326\n"
     ]
    }
   ],
   "source": [
    "def exponential_pdf(x, lambda_):\n",
    "    return lambda_ * np.exp(-lambda_ * x)\n",
    "\n",
    "def integrand(x, lambda_):\n",
    "    return x * exponential_pdf(x, lambda_)\n",
    "\n",
    "expected_value, _ = quad(integrand, 0, np.inf, args=(lambda_,))\n",
    "\n",
    "print(f\"Expected value: {expected_value}\")"
   ]
  },
  {
   "cell_type": "code",
   "execution_count": 27,
   "id": "3211d8a4",
   "metadata": {},
   "outputs": [
    {
     "name": "stdout",
     "output_type": "stream",
     "text": [
      "Variance: 0.11111111111111108\n"
     ]
    }
   ],
   "source": [
    "def integrand_2(x, expected_value, lambda_):\n",
    "    return ((x-expected_value)**2) * exponential_pdf(x, lambda_)\n",
    "\n",
    "variance, _ = quad(integrand_2, 0, np.inf, args=(expected_value, lambda_))\n",
    "\n",
    "print(f\"Variance: {variance}\")"
   ]
  },
  {
   "cell_type": "markdown",
   "id": "9c42f6b7",
   "metadata": {},
   "source": [
    "### Properties of the variance\n",
    "\n",
    "\n",
    "$$ V(a + X ) = V(X) $$\n",
    "\n",
    "Think a little, if we shift all values of X 5 units, we will also shift the expectation by 5 units"
   ]
  },
  {
   "cell_type": "code",
   "execution_count": 40,
   "id": "4e727d3e",
   "metadata": {},
   "outputs": [
    {
     "name": "stdout",
     "output_type": "stream",
     "text": [
      "Original Variance: 6.000000000000006\n"
     ]
    }
   ],
   "source": [
    "n = 25\n",
    "prob = 0.4\n",
    "x = np.arange(0, 50)\n",
    "\n",
    "pmf = stats.binom.pmf(x, n, prob)\n",
    "exp_val = n * prob\n",
    "variance_original = ((x - exp_val)**2).dot(pmf)\n",
    "\n",
    "print(f\"Original Variance: {variance_original}\")"
   ]
  },
  {
   "cell_type": "code",
   "execution_count": 39,
   "id": "6c927f32",
   "metadata": {},
   "outputs": [
    {
     "name": "stdout",
     "output_type": "stream",
     "text": [
      "Shifted Variance: 6.000000000000006\n"
     ]
    }
   ],
   "source": [
    "shifted_x = x + 5\n",
    "exp_val_shifted = exp_val + 5\n",
    "\n",
    "variance_shifted = ((shifted_x - exp_val_shifted)**2).dot(pmf)\n",
    "\n",
    "print(f\"Shifted Variance: {variance_shifted}\")"
   ]
  },
  {
   "cell_type": "markdown",
   "id": "c0370c5e",
   "metadata": {},
   "source": [
    "$$ V(bX) = b²V(X) $$"
   ]
  },
  {
   "cell_type": "code",
   "execution_count": 44,
   "id": "75ee0b69",
   "metadata": {},
   "outputs": [
    {
     "data": {
      "text/plain": [
       "150.00000000000014"
      ]
     },
     "execution_count": 44,
     "metadata": {},
     "output_type": "execute_result"
    }
   ],
   "source": [
    "(5**2)*variance_original ## right side of the formula"
   ]
  },
  {
   "cell_type": "code",
   "execution_count": 61,
   "id": "79e9d8e8",
   "metadata": {},
   "outputs": [
    {
     "name": "stdout",
     "output_type": "stream",
     "text": [
      "New Variance: 150.00000000000017\n"
     ]
    }
   ],
   "source": [
    "new_x = 5*x\n",
    "new_exp_val = 5*exp_val\n",
    "\n",
    "new_variance = ((new_x - new_exp_val)**2).dot(pmf)\n",
    "\n",
    "print(f\"New Variance: {new_variance}\")"
   ]
  },
  {
   "cell_type": "markdown",
   "id": "41ff285a",
   "metadata": {},
   "source": [
    "Let X and Y two independent random variables. So:\n",
    "\n",
    "$$ V(X + Y) = V(X) + V(Y) $$"
   ]
  },
  {
   "cell_type": "markdown",
   "id": "3e4e965f",
   "metadata": {},
   "source": [
    "Now, let's verify it (this is an experiment, not a proof) using samples of two different distributions"
   ]
  },
  {
   "cell_type": "code",
   "execution_count": 95,
   "id": "0a864676",
   "metadata": {},
   "outputs": [],
   "source": [
    "num_samples = 200000\n",
    "samples_x = stats.binom.rvs(20, 0.6, size=num_samples)\n",
    "samples_y = stats.poisson.rvs(10, size=num_samples)\n",
    "\n",
    "samples_sum = samples_x + samples_y"
   ]
  },
  {
   "cell_type": "code",
   "execution_count": 96,
   "id": "4a58748b",
   "metadata": {},
   "outputs": [
    {
     "data": {
      "text/plain": [
       "14.789836080874998"
      ]
     },
     "execution_count": 96,
     "metadata": {},
     "output_type": "execute_result"
    }
   ],
   "source": [
    "np.var(samples_x) + np.var(samples_y)"
   ]
  },
  {
   "cell_type": "code",
   "execution_count": 97,
   "id": "fac495f3",
   "metadata": {},
   "outputs": [
    {
     "data": {
      "text/plain": [
       "14.771589278775002"
      ]
     },
     "execution_count": 97,
     "metadata": {},
     "output_type": "execute_result"
    }
   ],
   "source": [
    "np.var(samples_sum)"
   ]
  },
  {
   "cell_type": "markdown",
   "id": "5d5e710f",
   "metadata": {},
   "source": [
    "If X and Y are not independent, we will need to introduce the correlation between X and Y in the formula. This topic will be covered in a future notebook."
   ]
  }
 ],
 "metadata": {
  "kernelspec": {
   "display_name": "Python 3 (ipykernel)",
   "language": "python",
   "name": "python3"
  },
  "language_info": {
   "codemirror_mode": {
    "name": "ipython",
    "version": 3
   },
   "file_extension": ".py",
   "mimetype": "text/x-python",
   "name": "python",
   "nbconvert_exporter": "python",
   "pygments_lexer": "ipython3",
   "version": "3.12.3"
  }
 },
 "nbformat": 4,
 "nbformat_minor": 5
}
